{
 "cells": [
  {
   "cell_type": "code",
   "execution_count": 11,
   "metadata": {},
   "outputs": [],
   "source": [
    "import pdb\n",
    "import sys\n",
    "import numpy as np\n",
    "import matplotlib.pyplot as plt\n",
    "import matplotlib\n",
    "import torch\n",
    "import PyQt6\n",
    "\n",
    "matplotlib.rcParams.update({'font.size': 14,\n",
    "                            'pdf.fonttype': 42,\n",
    "                            'ps.fonttype': 42})\n",
    "from matplotlib import rc\n",
    "rc('font',**{'family':'sans-serif','sans-serif':['Helvetica']})\n",
    "\n",
    "PATH_TO_FIXED_POINT_FINDER = '../../'\n",
    "PATH_TO_HELPER = '../helper/'\n",
    "sys.path.insert(0, PATH_TO_FIXED_POINT_FINDER)\n",
    "sys.path.insert(0, PATH_TO_HELPER)\n",
    "\n",
    "from FlipFlop import FlipFlop\n",
    "from FixedPointFinderTorch import FixedPointFinderTorch as FixedPointFinder\n",
    "from FlipFlopData import FlipFlopData\n",
    "from plot_utils import plot_fps\n",
    "from bayesRA import BayesRingRNN\n",
    "\n",
    "from scipy.special import i0, i1\n",
    "from scipy.optimize import root_scalar\n",
    "\n",
    "def A_Bessel(kappa): \n",
    "    \"\"\"Computes the ratio of Bessel functions.\"\"\"\n",
    "    r = i1(kappa)/i0(kappa)\n",
    "    return r\n",
    "\n",
    "def xi_fun_inv(dt):\n",
    "    \"\"\"Computes the inverse of the ratio of Bessel functions by root-finding.\"\"\"\n",
    "    f = lambda alpha: alpha * A_Bessel(alpha) - dt\n",
    "    sol = root_scalar(f,bracket=[0.001,50],method='brentq')\n",
    "    alpha = sol.root\n",
    "    return alpha\n",
    "\n",
    "def generate_data(batch_size=200):\n",
    "\t\n",
    "\tnp.random.seed(42)\n",
    "\tT = 15\n",
    "\tdt = 0.01\n",
    "\tt = np.arange(0,T,dt)\n",
    "\tN = 80\n",
    "\tkappa_phi = 1 # inverse diffusion constant\n",
    "\tkappa_v = 2 # precision of relative heading info\n",
    "\tkappa_z = 15 # precision of absolute heading info (called gamma_z in manuscript)\n",
    "\talpha = xi_fun_inv(kappa_z*dt) \n",
    "\n",
    "\t### create kappa_z depending on environment. If light is off, kappa_z is zero (maximally uninformative)\n",
    "\tkappa_z_array = alpha * np.ones(int(T/dt)) # precision of absolute heading info\n",
    "\n",
    "\ttrajectories = np.zeros((batch_size,len(t),N))\n",
    "\ttrue_HD = np.zeros((batch_size, len(t)))\n",
    "\tHD_obs = np.zeros((batch_size, len(t)))\n",
    "\tAV_obs = np.zeros((batch_size, len(t)))\n",
    "\t\n",
    "\tfor batch in range(batch_size):\n",
    "\t\t### create hidden state trajectory and observation sequence\n",
    "\t\tphi = np.zeros(int(T/dt)) # latent state\n",
    "\t\tphi_0 = 0 \n",
    "\t\tkappa_0 = 10 # initial certainty\n",
    "\t\tphi[0] = np.random.vonmises(phi_0,kappa_0)\n",
    "\t\tphi[0] = (phi[0] + np.pi ) \n",
    "\t\tdy = np.zeros(int(T/dt))\n",
    "\t\tfor i in range(1,int(T/dt)):\n",
    "\t\t\t\tphi[i] = np.random.normal(phi[i-1],1/np.sqrt(kappa_phi) * np.sqrt(dt)) #True HD observations\n",
    "\t\t\t\tdy[i] = np.random.normal(phi[i]-phi[i-1],1/np.sqrt(kappa_v) * np.sqrt(dt)) #Angular velocity observations\n",
    "\t\tphi = (phi % (2*np.pi) ) - np.pi # convert true HD to circular coordinates\n",
    "\t\tmu_z = np.random.vonmises(phi,kappa_z_array) # draw HD observations from Von Mises distribution based on true HD\n",
    "\n",
    "\t\tphi_0_r = np.linspace(-np.pi,np.pi-(2*np.pi)/N,N)\n",
    "\t\talpha = 100\n",
    "\n",
    "\t\t##### connectivity matrices\n",
    "\t\tW_rec_even = np.zeros((N,N))\n",
    "\t\tfor i in range(N):\n",
    "\t\t\tfor j in range(N):\n",
    "\t\t\t\tW_rec_even[i,j] = 2/N * np.cos(phi_0_r[i] - phi_0_r[j])\n",
    "\t\t\t\t\n",
    "\t\tW_rec_odd = np.zeros((N,N))\n",
    "\t\tfor i in range(N):\n",
    "\t\t\tfor j in range(N):\n",
    "\t\t\t\tW_rec_odd[i,j] = 2/N * np.sin(phi_0_r[i] - phi_0_r[j])\n",
    "\t\t\t\t\n",
    "\t\tM_inh = np.zeros((N,N))\n",
    "\t\tfor i in range(N):\n",
    "\t\t\tfor j in range(N):\n",
    "\t\t\t\tM_inh[i,j] =  (2/N)**2 * np.cos(phi_0_r[i] - phi_0_r[j])\n",
    "\n",
    "\t\t# set network parameters to match filtering\n",
    "\t\talpha_tilde = 0\n",
    "\t\talpha = alpha_tilde + 1/2 * kappa_v/kappa_phi * 1/(kappa_phi + kappa_v)\n",
    "\t\tW = ( (alpha_tilde + 1/(kappa_phi + kappa_v)) * W_rec_even \n",
    "\t\t\t+ (kappa_v/(kappa_v+kappa_phi))*W_rec_odd * dy[0]/dt )\n",
    "\t\tM =  M_inh\n",
    "\n",
    "\t\t# init\n",
    "\t\tr = np.zeros((int(T/dt),N))\n",
    "\t\tr[0] = kappa_0 * np.cos(phi_0_r - phi_0)\n",
    "\n",
    "\t\t# run network filter\n",
    "\t\tfor i in range(1,int(T/dt)):\n",
    "\t\t\tW =  ( (alpha_tilde + 1/(kappa_phi + kappa_v)) * W_rec_even \n",
    "\t\t\t+ (kappa_v/(kappa_v+kappa_phi))*W_rec_odd * dy[i]/dt )\n",
    "\t\t\tr[i] = (r[i-1] \n",
    "\t\t\t\t\t- alpha * r[i-1] * dt # decay\n",
    "\t\t\t\t\t- 1/(kappa_phi+kappa_v) * np.sqrt(np.dot(r[i-1],np.dot(M,r[i-1]))) * r[i-1] * dt # coincidence detector\n",
    "\t\t\t\t\t+ np.dot(W,r[i-1]) * dt # angular velocity integration\n",
    "\t\t\t\t+ kappa_z_array[i]*np.cos(phi_0_r-mu_z[i])) # absolute heading info (external input)\n",
    "\t\t\t\n",
    "\t\ttrajectories[batch, :,:] = r\n",
    "\t\ttrue_HD[batch,:] = phi\n",
    "\t\tHD_obs[batch,:] = mu_z\n",
    "\t\tAV_obs[batch,:] = dy\n",
    "\n",
    "\treturn trajectories, true_HD, HD_obs, AV_obs\n",
    "\t\n",
    "def circplot(t,phi):\n",
    "    \"\"\" Stiches t and phi to make unwrapped circular plot. \"\"\"\n",
    "    \n",
    "    phi_minus = phi - 2*np.pi\n",
    "    phi_plus = phi + 2*np.pi\n",
    "\n",
    "    phi_array = np.array((phi_plus , phi , phi_minus))\n",
    "    difference = np.abs(phi_array[:,1:] - phi[0:-1])\n",
    "    ind_up = np.where(np.argmin(difference,axis=0)==0)[0]\n",
    "    ind_down = np.where(np.argmin(difference,axis=0)==2)[0]\n",
    "    ind = np.union1d(ind_up,ind_down)\n",
    "\n",
    "    phi_stiched = np.copy(phi)\n",
    "    t_stiched = np.copy(t)\n",
    "    for i in np.flip(np.arange(ind.size)):\n",
    "        idx = ind[i]\n",
    "        if np.isin(idx,ind_up):\n",
    "            phi_stiched = np.concatenate((phi_stiched[0:idx+1],[phi_plus[idx+1]],\n",
    "                                          [np.nan],[phi_minus[idx]],phi_stiched[(idx+1):]))\n",
    "        else:\n",
    "            phi_stiched = np.concatenate((phi_stiched[0:idx+1],[phi_minus[idx+1]],\n",
    "                                          [np.nan],[phi_plus[idx]],phi_stiched[(idx+1):]))\n",
    "        t_stiched = np.concatenate((t_stiched[0:idx+2],[np.nan],t_stiched[idx:]))\n",
    "\n",
    "    \n",
    "    return t_stiched,phi_stiched\n"
   ]
  },
  {
   "cell_type": "code",
   "execution_count": 2,
   "metadata": {},
   "outputs": [],
   "source": [
    "valid_predictions, true_HD, HD_obs, AV_obs = generate_data(batch_size=50)"
   ]
  },
  {
   "cell_type": "code",
   "execution_count": 3,
   "metadata": {},
   "outputs": [],
   "source": [
    "check_traj = valid_predictions[0,:,:]"
   ]
  },
  {
   "cell_type": "code",
   "execution_count": 4,
   "metadata": {},
   "outputs": [
    {
     "data": {
      "text/plain": [
       "(50, 1500, 80)"
      ]
     },
     "execution_count": 4,
     "metadata": {},
     "output_type": "execute_result"
    }
   ],
   "source": [
    "valid_predictions.shape"
   ]
  },
  {
   "cell_type": "code",
   "execution_count": 5,
   "metadata": {},
   "outputs": [
    {
     "name": "stdout",
     "output_type": "stream",
     "text": [
      "(50, 1500, 2)\n",
      "(1, 50, 80)\n"
     ]
    }
   ],
   "source": [
    "inputs = np.stack((HD_obs, AV_obs), axis=2)\n",
    "r0 = np.expand_dims(valid_predictions[:,0,:],axis=0)\n",
    "\n",
    "print(inputs.shape)\n",
    "print(r0.shape)"
   ]
  },
  {
   "cell_type": "code",
   "execution_count": 6,
   "metadata": {},
   "outputs": [],
   "source": [
    "inputs_single = inputs[:,0,:]"
   ]
  },
  {
   "cell_type": "code",
   "execution_count": 7,
   "metadata": {},
   "outputs": [],
   "source": [
    "batch = 50\n",
    "\n",
    "#rnn = BayesRingRNN(batch_size=1)\n",
    "#input_single = torch.from_numpy(inputs[0,:,:]).unsqueeze(0)\n",
    "#r0_single = torch.from_numpy(r0)[:,0,:].unsqueeze(1)\n",
    "#print(input_single.size())\n",
    "#print(r0_single.size())\n",
    "#traj, r_t = rnn(torch.from_numpy(inputs[0,:,:]).unsqueeze(0), r0=torch.from_numpy(r0)[:,0,:].unsqueeze(1))\n",
    "\n",
    "rnn = BayesRingRNN(batch_size=batch)\n",
    "#traj, r_t = rnn(torch.from_numpy(inputs_single).unsqueeze(1), r0=torch.from_numpy(r0))\n",
    "traj, r_t = rnn(torch.from_numpy(inputs), r0=torch.from_numpy(r0))"
   ]
  },
  {
   "cell_type": "code",
   "execution_count": 8,
   "metadata": {},
   "outputs": [
    {
     "name": "stdout",
     "output_type": "stream",
     "text": [
      "tensor([ 8.1465, -0.7889,  7.1227,  0.3613,  4.3597, -4.7096,  7.4663,  4.5110,\n",
      "        -3.0581,  4.3171, -6.8769, -6.6796, -1.0380, -7.4234,  7.7008, -3.0806,\n",
      "         6.2656,  7.2979,  2.0456, -6.2458,  5.4834, -4.4560, -2.2604, -5.5717,\n",
      "         5.0072, -7.7800,  6.1127,  5.2768,  9.3005, -6.1988, -5.6266,  1.7367,\n",
      "        -4.5836,  2.9106, -7.0592, -6.3960,  6.7120,  5.4803,  8.9934,  2.0586,\n",
      "        -5.8750, -5.9981, -4.4709, -6.4416, -7.1819,  6.7509,  0.6108, -4.2776,\n",
      "         3.7590,  2.4741], dtype=torch.float64)\n"
     ]
    }
   ],
   "source": [
    "print(r_t[0,:,0])"
   ]
  },
  {
   "cell_type": "code",
   "execution_count": 9,
   "metadata": {},
   "outputs": [
    {
     "name": "stdout",
     "output_type": "stream",
     "text": [
      "torch.Size([50, 1500, 80])\n",
      "(50, 1500, 80)\n"
     ]
    }
   ],
   "source": [
    "print(traj.shape)\n",
    "print(valid_predictions.shape)"
   ]
  },
  {
   "cell_type": "code",
   "execution_count": 10,
   "metadata": {},
   "outputs": [
    {
     "name": "stdout",
     "output_type": "stream",
     "text": [
      "-0.26507450095830554\n",
      "-0.26507450095830554\n"
     ]
    }
   ],
   "source": [
    "print(inputs[0,150,1])\n",
    "print(AV_obs[0,150])\n"
   ]
  },
  {
   "cell_type": "code",
   "execution_count": 11,
   "metadata": {},
   "outputs": [
    {
     "name": "stdout",
     "output_type": "stream",
     "text": [
      "(50, 1500, 80)\n",
      "(50, 1500)\n",
      "(50, 1500)\n",
      "(50, 1500)\n"
     ]
    }
   ],
   "source": [
    "print(valid_predictions.shape) #batch, time, neurons\n",
    "print(true_HD.shape) #batch, time\n",
    "print(HD_obs.shape) #batch, time\n",
    "print(AV_obs.shape) #batch, time"
   ]
  },
  {
   "cell_type": "code",
   "execution_count": 12,
   "metadata": {},
   "outputs": [
    {
     "data": {
      "text/plain": [
       "[<matplotlib.lines.Line2D at 0x1039174f0>]"
      ]
     },
     "execution_count": 12,
     "metadata": {},
     "output_type": "execute_result"
    },
    {
     "data": {
      "image/png": "[encoded data removed]",
      "text/plain": [
       "<Figure size 640x480 with 1 Axes>"
      ]
     },
     "metadata": {},
     "output_type": "display_data"
    }
   ],
   "source": [
    "plt.plot(HD_obs[0,:])\n",
    "plt.plot(AV_obs[0,:])\n",
    "plt.plot(true_HD[0,:])"
   ]
  },
  {
   "cell_type": "code",
   "execution_count": 14,
   "metadata": {},
   "outputs": [
    {
     "name": "stdout",
     "output_type": "stream",
     "text": [
      "[-10.          -9.14033757  -9.44312465 ...   0.97996348  -0.39224302\n",
      "  -0.78889175]\n",
      "tensor([-10.0203,  -9.1118,  -9.4425,  ...,   0.9800,  -0.3922,  -0.7889],\n",
      "       dtype=torch.float64)\n"
     ]
    }
   ],
   "source": [
    "print(valid_predictions[1,:,0])\n",
    "print(traj[1,:,0])"
   ]
  },
  {
   "cell_type": "code",
   "execution_count": 13,
   "metadata": {},
   "outputs": [
    {
     "data": {
      "text/plain": [
       "[<matplotlib.lines.Line2D at 0x12fbaf7c0>]"
      ]
     },
     "execution_count": 13,
     "metadata": {},
     "output_type": "execute_result"
    },
    {
     "data": {
      "image/png": "[encoded data removed]",
      "text/plain": [
       "<Figure size 700x600 with 2 Axes>"
      ]
     },
     "metadata": {},
     "output_type": "display_data"
    }
   ],
   "source": [
    "T = 15\n",
    "dt = 0.01\n",
    "t = np.arange(0,T,dt)\n",
    "\n",
    "fig, (ax1,ax2) = plt.subplots(2,1,figsize=(7,6))\n",
    "\n",
    "ax1.plot(t, valid_predictions[1,:,0])\n",
    "ax2.plot(t, traj[1,:,0])\n",
    "\n",
    "#ax2.plot(t, traj[0,:])\n"
   ]
  },
  {
   "cell_type": "code",
   "execution_count": 19,
   "metadata": {},
   "outputs": [
    {
     "ename": "ValueError",
     "evalue": "x and y must have same first dimension, but have shapes (1500,) and (50, 1500)",
     "output_type": "error",
     "traceback": [
      "\u001b[0;31m---------------------------------------------------------------------------\u001b[0m",
      "\u001b[0;31mValueError\u001b[0m                                Traceback (most recent call last)",
      "Cell \u001b[0;32mIn[19], line 7\u001b[0m\n\u001b[1;32m      4\u001b[0m dt \u001b[38;5;241m=\u001b[39m \u001b[38;5;241m0.01\u001b[39m\n\u001b[1;32m      5\u001b[0m t \u001b[38;5;241m=\u001b[39m np\u001b[38;5;241m.\u001b[39marange(\u001b[38;5;241m0\u001b[39m,T,dt)\n\u001b[0;32m----> 7\u001b[0m \u001b[43max1\u001b[49m\u001b[38;5;241;43m.\u001b[39;49m\u001b[43mplot\u001b[49m\u001b[43m(\u001b[49m\u001b[38;5;241;43m*\u001b[39;49m\u001b[43mcircplot\u001b[49m\u001b[43m(\u001b[49m\u001b[43mt\u001b[49m\u001b[43m,\u001b[49m\u001b[43mtrue_HD\u001b[49m\u001b[43m)\u001b[49m\u001b[43m,\u001b[49m\u001b[43mlinewidth\u001b[49m\u001b[38;5;241;43m=\u001b[39;49m\u001b[38;5;241;43m1\u001b[39;49m\u001b[43m,\u001b[49m\u001b[43mlabel\u001b[49m\u001b[38;5;241;43m=\u001b[39;49m\u001b[38;5;124;43mr\u001b[39;49m\u001b[38;5;124;43m'\u001b[39;49m\u001b[38;5;124;43mTrue HD $\u001b[39;49m\u001b[38;5;124;43m\\\u001b[39;49m\u001b[38;5;124;43mvarphi_t$\u001b[39;49m\u001b[38;5;124;43m'\u001b[39;49m\u001b[43m,\u001b[49m\u001b[43mcolor\u001b[49m\u001b[38;5;241;43m=\u001b[39;49m\u001b[38;5;124;43m'\u001b[39;49m\u001b[38;5;124;43mxkcd:teal\u001b[39;49m\u001b[38;5;124;43m'\u001b[39;49m\u001b[43m)\u001b[49m\n\u001b[1;32m      8\u001b[0m ax1\u001b[38;5;241m.\u001b[39mplot(\u001b[38;5;241m*\u001b[39mcircplot(t,mu_ProF),linewidth\u001b[38;5;241m=\u001b[39m\u001b[38;5;241m1\u001b[39m,color\u001b[38;5;241m=\u001b[39m\u001b[38;5;124m'\u001b[39m\u001b[38;5;124mxkcd:azure\u001b[39m\u001b[38;5;124m'\u001b[39m,label\u001b[38;5;241m=\u001b[39m\u001b[38;5;124m'\u001b[39m\u001b[38;5;124mcircKF\u001b[39m\u001b[38;5;124m'\u001b[39m)\n\u001b[1;32m      9\u001b[0m ax1\u001b[38;5;241m.\u001b[39mplot(\u001b[38;5;241m*\u001b[39mcircplot(t,mu_NN),linewidth\u001b[38;5;241m=\u001b[39m\u001b[38;5;241m1\u001b[39m, label\u001b[38;5;241m=\u001b[39m\u001b[38;5;124mr\u001b[39m\u001b[38;5;124m'\u001b[39m\u001b[38;5;124mBayesian ring attractor\u001b[39m\u001b[38;5;124m'\u001b[39m,color\u001b[38;5;241m=\u001b[39m\u001b[38;5;124m'\u001b[39m\u001b[38;5;124mxkcd:bright purple\u001b[39m\u001b[38;5;124m'\u001b[39m)\n",
      "File \u001b[0;32m/opt/anaconda3/envs/fp-finder/lib/python3.10/site-packages/matplotlib/axes/_axes.py:1777\u001b[0m, in \u001b[0;36mAxes.plot\u001b[0;34m(self, scalex, scaley, data, *args, **kwargs)\u001b[0m\n\u001b[1;32m   1534\u001b[0m \u001b[38;5;250m\u001b[39m\u001b[38;5;124;03m\"\"\"\u001b[39;00m\n\u001b[1;32m   1535\u001b[0m \u001b[38;5;124;03mPlot y versus x as lines and/or markers.\u001b[39;00m\n\u001b[1;32m   1536\u001b[0m \n\u001b[0;32m   (...)\u001b[0m\n\u001b[1;32m   1774\u001b[0m \u001b[38;5;124;03m(``'green'``) or hex strings (``'#008000'``).\u001b[39;00m\n\u001b[1;32m   1775\u001b[0m \u001b[38;5;124;03m\"\"\"\u001b[39;00m\n\u001b[1;32m   1776\u001b[0m kwargs \u001b[38;5;241m=\u001b[39m cbook\u001b[38;5;241m.\u001b[39mnormalize_kwargs(kwargs, mlines\u001b[38;5;241m.\u001b[39mLine2D)\n\u001b[0;32m-> 1777\u001b[0m lines \u001b[38;5;241m=\u001b[39m [\u001b[38;5;241m*\u001b[39m\u001b[38;5;28mself\u001b[39m\u001b[38;5;241m.\u001b[39m_get_lines(\u001b[38;5;28mself\u001b[39m, \u001b[38;5;241m*\u001b[39margs, data\u001b[38;5;241m=\u001b[39mdata, \u001b[38;5;241m*\u001b[39m\u001b[38;5;241m*\u001b[39mkwargs)]\n\u001b[1;32m   1778\u001b[0m \u001b[38;5;28;01mfor\u001b[39;00m line \u001b[38;5;129;01min\u001b[39;00m lines:\n\u001b[1;32m   1779\u001b[0m     \u001b[38;5;28mself\u001b[39m\u001b[38;5;241m.\u001b[39madd_line(line)\n",
      "File \u001b[0;32m/opt/anaconda3/envs/fp-finder/lib/python3.10/site-packages/matplotlib/axes/_base.py:297\u001b[0m, in \u001b[0;36m_process_plot_var_args.__call__\u001b[0;34m(self, axes, data, return_kwargs, *args, **kwargs)\u001b[0m\n\u001b[1;32m    295\u001b[0m     this \u001b[38;5;241m+\u001b[39m\u001b[38;5;241m=\u001b[39m args[\u001b[38;5;241m0\u001b[39m],\n\u001b[1;32m    296\u001b[0m     args \u001b[38;5;241m=\u001b[39m args[\u001b[38;5;241m1\u001b[39m:]\n\u001b[0;32m--> 297\u001b[0m \u001b[38;5;28;01myield from\u001b[39;00m \u001b[38;5;28;43mself\u001b[39;49m\u001b[38;5;241;43m.\u001b[39;49m\u001b[43m_plot_args\u001b[49m\u001b[43m(\u001b[49m\n\u001b[1;32m    298\u001b[0m \u001b[43m    \u001b[49m\u001b[43maxes\u001b[49m\u001b[43m,\u001b[49m\u001b[43m \u001b[49m\u001b[43mthis\u001b[49m\u001b[43m,\u001b[49m\u001b[43m \u001b[49m\u001b[43mkwargs\u001b[49m\u001b[43m,\u001b[49m\u001b[43m \u001b[49m\u001b[43mambiguous_fmt_datakey\u001b[49m\u001b[38;5;241;43m=\u001b[39;49m\u001b[43mambiguous_fmt_datakey\u001b[49m\u001b[43m,\u001b[49m\n\u001b[1;32m    299\u001b[0m \u001b[43m    \u001b[49m\u001b[43mreturn_kwargs\u001b[49m\u001b[38;5;241;43m=\u001b[39;49m\u001b[43mreturn_kwargs\u001b[49m\n\u001b[1;32m    300\u001b[0m \u001b[43m\u001b[49m\u001b[43m)\u001b[49m\n",
      "File \u001b[0;32m/opt/anaconda3/envs/fp-finder/lib/python3.10/site-packages/matplotlib/axes/_base.py:494\u001b[0m, in \u001b[0;36m_process_plot_var_args._plot_args\u001b[0;34m(self, axes, tup, kwargs, return_kwargs, ambiguous_fmt_datakey)\u001b[0m\n\u001b[1;32m    491\u001b[0m     axes\u001b[38;5;241m.\u001b[39myaxis\u001b[38;5;241m.\u001b[39mupdate_units(y)\n\u001b[1;32m    493\u001b[0m \u001b[38;5;28;01mif\u001b[39;00m x\u001b[38;5;241m.\u001b[39mshape[\u001b[38;5;241m0\u001b[39m] \u001b[38;5;241m!=\u001b[39m y\u001b[38;5;241m.\u001b[39mshape[\u001b[38;5;241m0\u001b[39m]:\n\u001b[0;32m--> 494\u001b[0m     \u001b[38;5;28;01mraise\u001b[39;00m \u001b[38;5;167;01mValueError\u001b[39;00m(\u001b[38;5;124mf\u001b[39m\u001b[38;5;124m\"\u001b[39m\u001b[38;5;124mx and y must have same first dimension, but \u001b[39m\u001b[38;5;124m\"\u001b[39m\n\u001b[1;32m    495\u001b[0m                      \u001b[38;5;124mf\u001b[39m\u001b[38;5;124m\"\u001b[39m\u001b[38;5;124mhave shapes \u001b[39m\u001b[38;5;132;01m{\u001b[39;00mx\u001b[38;5;241m.\u001b[39mshape\u001b[38;5;132;01m}\u001b[39;00m\u001b[38;5;124m and \u001b[39m\u001b[38;5;132;01m{\u001b[39;00my\u001b[38;5;241m.\u001b[39mshape\u001b[38;5;132;01m}\u001b[39;00m\u001b[38;5;124m\"\u001b[39m)\n\u001b[1;32m    496\u001b[0m \u001b[38;5;28;01mif\u001b[39;00m x\u001b[38;5;241m.\u001b[39mndim \u001b[38;5;241m>\u001b[39m \u001b[38;5;241m2\u001b[39m \u001b[38;5;129;01mor\u001b[39;00m y\u001b[38;5;241m.\u001b[39mndim \u001b[38;5;241m>\u001b[39m \u001b[38;5;241m2\u001b[39m:\n\u001b[1;32m    497\u001b[0m     \u001b[38;5;28;01mraise\u001b[39;00m \u001b[38;5;167;01mValueError\u001b[39;00m(\u001b[38;5;124mf\u001b[39m\u001b[38;5;124m\"\u001b[39m\u001b[38;5;124mx and y can be no greater than 2D, but have \u001b[39m\u001b[38;5;124m\"\u001b[39m\n\u001b[1;32m    498\u001b[0m                      \u001b[38;5;124mf\u001b[39m\u001b[38;5;124m\"\u001b[39m\u001b[38;5;124mshapes \u001b[39m\u001b[38;5;132;01m{\u001b[39;00mx\u001b[38;5;241m.\u001b[39mshape\u001b[38;5;132;01m}\u001b[39;00m\u001b[38;5;124m and \u001b[39m\u001b[38;5;132;01m{\u001b[39;00my\u001b[38;5;241m.\u001b[39mshape\u001b[38;5;132;01m}\u001b[39;00m\u001b[38;5;124m\"\u001b[39m)\n",
      "\u001b[0;31mValueError\u001b[0m: x and y must have same first dimension, but have shapes (1500,) and (50, 1500)"
     ]
    },
    {
     "data": {
      "image/png": "[encoded data removed]",
      "text/plain": [
       "<Figure size 700x600 with 2 Axes>"
      ]
     },
     "metadata": {},
     "output_type": "display_data"
    }
   ],
   "source": [
    "fig, (ax1,ax2) = plt.subplots(2,1,figsize=(7,6))\n",
    "\n",
    "\n",
    "\n",
    "ax1.plot(*circplot(t,true_HD),linewidth=1,label=r'True HD $\\varphi_t$',color='xkcd:teal')\n",
    "ax1.plot(*circplot(t,mu_ProF),linewidth=1,color='xkcd:azure',label='circKF')\n",
    "ax1.plot(*circplot(t,mu_NN),linewidth=1, label=r'Bayesian ring attractor',color='xkcd:bright purple')\n",
    "ax1.set_xlim([0,T])\n",
    "ax1.set_ylim([-np.pi,np.pi])\n",
    "ax1.set_ylabel('HD estimate')\n",
    "ax1.set_yticks([0., - np.pi, np.pi])\n",
    "ax1.set_yticklabels([\"$0$\",r\"$-\\pi$\",r\"$\\pi$\"])\n",
    "ax1.set_xticks([])\n",
    "ax1.legend()\n",
    "\n",
    "ax2.plot(t,kappa_ProF,linewidth=1,label=r'Precision $\\kappa_t$',color='xkcd:azure')\n",
    "ax2.plot(t,kappa_NN,linewidth=1, label=r'Network amplitude $\\tilde{r}_1(t)$',color='xkcd:bright purple')\n",
    "ax2.plot([t_on,t_on],[0,np.max(kappa_ProF)],linewidth=1,color='xkcd:salmon')\n",
    "ax2.plot([t_off,t_off],[0,np.max(kappa_ProF)],linewidth=1,color='xkcd:salmon')\n",
    "ax2.set_xlim([0,T])\n",
    "ax2.set_xticks([])\n",
    "ax2.set_ylim([0,np.max(kappa_ProF)])\n",
    "ax2.set_ylabel(r'Certainty / Amplitude')"
   ]
  },
  {
   "cell_type": "markdown",
   "metadata": {},
   "source": [
    "## Test Drosophila RNN"
   ]
  },
  {
   "cell_type": "code",
   "execution_count": 14,
   "metadata": {},
   "outputs": [],
   "source": [
    "from drosophRNN import drosophRNN\n",
    "\n",
    "def A_Bessel(kappa): \n",
    "    \"\"\"Computes the ratio of Bessel functions.\"\"\"\n",
    "    r = i1(kappa)/i0(kappa)\n",
    "    return r\n",
    "\n",
    "def xi_fun_inv(dt):\n",
    "    \"\"\"Computes the inverse of the ratio of Bessel functions by root-finding.\"\"\"\n",
    "    f = lambda alpha: alpha * A_Bessel(alpha) - dt\n",
    "    sol = root_scalar(f,bracket=[0.001,50],method='brentq')\n",
    "    alpha = sol.root\n",
    "    return alpha\n",
    "\n",
    "def generate_data(T=5, dt=0.01,N=80, kappa_phi=1, kappa_v=2, kappa_z=15,batch_size=200):\n",
    "\n",
    "\tnp.random.seed(42)\n",
    "\t\n",
    "\tt = np.arange(0,T,dt)\n",
    "\talpha = xi_fun_inv(kappa_z*dt) \n",
    "\n",
    "\t### create kappa_z depending on environment. If light is off, kappa_z is zero (maximally uninformative)\n",
    "\tkappa_z_array = alpha * np.ones(int(T/dt)) # precision of absolute heading info\n",
    "\n",
    "\ttrajectories = np.zeros((batch_size,len(t),N))\n",
    "\ttrue_HD = np.zeros((batch_size, len(t)))\n",
    "\tHD_obs = np.zeros((batch_size, len(t)))\n",
    "\tAV_obs = np.zeros((batch_size, len(t)))\n",
    "\t\n",
    "\tfor batch in range(batch_size):\n",
    "\t\t### create hidden state trajectory and observation sequence\n",
    "\t\tphi = np.zeros(int(T/dt)) # latent state\n",
    "\t\tphi_0 = 0 \n",
    "\t\tkappa_0 = 10 # initial certainty\n",
    "\t\tphi[0] = np.random.vonmises(phi_0,kappa_0)\n",
    "\t\tphi[0] = (phi[0] + np.pi ) \n",
    "\t\tdy = np.zeros(int(T/dt))\n",
    "\t\tfor i in range(1,int(T/dt)):\n",
    "\t\t\t\tphi[i] = np.random.normal(phi[i-1],1/np.sqrt(kappa_phi) * np.sqrt(dt)) #True HD observations\n",
    "\t\t\t\tdy[i] = np.random.normal(phi[i]-phi[i-1],1/np.sqrt(kappa_v) * np.sqrt(dt)) #Angular velocity observations\n",
    "\t\tphi = (phi % (2*np.pi) ) - np.pi # convert true HD to circular coordinates\n",
    "\t\tmu_z = np.random.vonmises(phi,kappa_z_array) # draw HD observations from Von Mises distribution based on true HD\n",
    "\n",
    "\t\tphi_0_r = np.linspace(-np.pi,np.pi-(2*np.pi)/N,N)\n",
    "\t\talpha = 100\n",
    "\n",
    "\t\t##### connectivity matrices\n",
    "\t\tW_rec_even = np.zeros((N,N))\n",
    "\t\tfor i in range(N):\n",
    "\t\t\tfor j in range(N):\n",
    "\t\t\t\tW_rec_even[i,j] = 2/N * np.cos(phi_0_r[i] - phi_0_r[j])\n",
    "\t\t\t\t\n",
    "\t\tW_rec_odd = np.zeros((N,N))\n",
    "\t\tfor i in range(N):\n",
    "\t\t\tfor j in range(N):\n",
    "\t\t\t\tW_rec_odd[i,j] = 2/N * np.sin(phi_0_r[i] - phi_0_r[j])\n",
    "\t\t\t\t\n",
    "\t\tM_inh = np.zeros((N,N))\n",
    "\t\tfor i in range(N):\n",
    "\t\t\tfor j in range(N):\n",
    "\t\t\t\tM_inh[i,j] =  (2/N)**2 * np.cos(phi_0_r[i] - phi_0_r[j])\n",
    "\n",
    "\t\t# set network parameters to match filtering\n",
    "\t\talpha_tilde = 0\n",
    "\t\talpha = alpha_tilde + 1/2 * kappa_v/kappa_phi * 1/(kappa_phi + kappa_v)\n",
    "\t\tW = ( (alpha_tilde + 1/(kappa_phi + kappa_v)) * W_rec_even \n",
    "\t\t\t+ (kappa_v/(kappa_v+kappa_phi))*W_rec_odd * dy[0]/dt )\n",
    "\t\tM =  M_inh\n",
    "\n",
    "\t\t# init\n",
    "\t\tr = np.zeros((int(T/dt),N))\n",
    "\t\tr[0] = kappa_0 * np.cos(phi_0_r - phi_0)\n",
    "\n",
    "\t\t# run network filter\n",
    "\t\tfor i in range(1,int(T/dt)):\n",
    "\t\t\tW =  ( (alpha_tilde + 1/(kappa_phi + kappa_v)) * W_rec_even \n",
    "\t\t\t+ (kappa_v/(kappa_v+kappa_phi))*W_rec_odd * dy[i]/dt )\n",
    "\t\t\tr[i] = (r[i-1] \n",
    "\t\t\t\t\t- alpha * r[i-1] * dt # decay\n",
    "\t\t\t\t\t- 1/(kappa_phi+kappa_v) * np.sqrt(np.dot(r[i-1],np.dot(M,r[i-1]))) * r[i-1] * dt # coincidence detector\n",
    "\t\t\t\t\t+ np.dot(W,r[i-1]) * dt # angular velocity integration\n",
    "\t\t\t\t+ kappa_z_array[i]*np.cos(phi_0_r-mu_z[i])) # absolute heading info (external input)\n",
    "\t\t\t\n",
    "\t\ttrajectories[batch, :,:] = r\n",
    "\t\ttrue_HD[batch,:] = phi\n",
    "\t\tHD_obs[batch,:] = mu_z\n",
    "\t\tAV_obs[batch,:] = dy\n",
    "\n",
    "\treturn trajectories, true_HD, HD_obs, AV_obs"
   ]
  },
  {
   "cell_type": "code",
   "execution_count": 9,
   "metadata": {},
   "outputs": [],
   "source": [
    "def get_mu_kappa(N_HD, r_HD):\n",
    "    phi_0_HD = np.linspace(-np.pi,np.pi-(2*np.pi)/N_HD,N_HD)  # HD preferred angle\n",
    "\n",
    "    # decode stochastic variables from HD population\n",
    "    A_cos =  np.array([np.cos(phi_0_HD),np.sin(phi_0_HD)])\n",
    "    theta = 2/N_HD * np.einsum('LN,btN->btL', A_cos, r_HD) # FT in Cartesian domain\n",
    "    kappa = np.sqrt(np.sum(theta**2,axis=-1)) #convert to polar coordinates\n",
    "    mu = np.arctan2(theta[...,1],theta[...,0])\n",
    "    return mu, kappa"
   ]
  },
  {
   "cell_type": "code",
   "execution_count": 136,
   "metadata": {},
   "outputs": [],
   "source": [
    "T = 20\n",
    "dt = 0.001 \n",
    "kappa_phi = 1 \n",
    "kappa_y_v = 1\n",
    "kappa_z = 15 \n",
    "N=100\n",
    "\n",
    "trajectories, true_HD, HD_obs, AV_obs = generate_data(T=T, dt=dt, N=N, kappa_phi=kappa_phi, kappa_v=kappa_y_v, kappa_z=15, batch_size=10)\n",
    "\n",
    "mu_gen, kappa_gen = get_mu_kappa(N, trajectories)"
   ]
  },
  {
   "cell_type": "code",
   "execution_count": 5,
   "metadata": {},
   "outputs": [
    {
     "name": "stdout",
     "output_type": "stream",
     "text": [
      "(10, 20000, 100)\n"
     ]
    }
   ],
   "source": [
    "print(trajectories.shape)"
   ]
  },
  {
   "cell_type": "code",
   "execution_count": 6,
   "metadata": {},
   "outputs": [
    {
     "name": "stdout",
     "output_type": "stream",
     "text": [
      "(10, 20000)\n"
     ]
    }
   ],
   "source": [
    "print(mu_gen.shape)"
   ]
  },
  {
   "cell_type": "code",
   "execution_count": 7,
   "metadata": {},
   "outputs": [
    {
     "data": {
      "image/png": "[encoded data removed]",
      "text/plain": [
       "<Figure size 640x480 with 1 Axes>"
      ]
     },
     "metadata": {},
     "output_type": "display_data"
    }
   ],
   "source": [
    "fig = plt.figure()\n",
    "\n",
    "plt.plot(mu_gen[0,:])\n",
    "plt.plot(kappa_gen[0,:])\n",
    "\n",
    "plt.show()"
   ]
  },
  {
   "cell_type": "code",
   "execution_count": 13,
   "metadata": {},
   "outputs": [
    {
     "data": {
      "image/png": "[encoded data removed]",
      "text/plain": [
       "<Figure size 640x480 with 1 Axes>"
      ]
     },
     "metadata": {},
     "output_type": "display_data"
    }
   ],
   "source": [
    "fig = plt.figure()\n",
    "\n",
    "plt.plot(mu_net[5,:])\n",
    "plt.plot(mu_gen[5,:])\n",
    "\n",
    "plt.show()"
   ]
  },
  {
   "cell_type": "code",
   "execution_count": 12,
   "metadata": {},
   "outputs": [
    {
     "data": {
      "image/png": "[encoded data removed]",
      "text/plain": [
       "<Figure size 640x480 with 1 Axes>"
      ]
     },
     "metadata": {},
     "output_type": "display_data"
    }
   ],
   "source": [
    "fig = plt.figure()\n",
    "\n",
    "plt.plot(kappa_net[5,:])\n",
    "plt.plot(kappa_gen[5,:])\n",
    "\n",
    "plt.show()"
   ]
  },
  {
   "cell_type": "code",
   "execution_count": 11,
   "metadata": {},
   "outputs": [],
   "source": [
    "def fact(x):\n",
    "\n",
    "\treturn torch.functional.relu(x)"
   ]
  },
  {
   "cell_type": "code",
   "execution_count": 187,
   "metadata": {},
   "outputs": [],
   "source": [
    "rnn = drosophRNN(dt=dt, kappa_phi =kappa_phi, kappa_y=kappa_y_v)\n",
    "\n",
    "inputs = torch.from_numpy(np.stack((HD_obs, AV_obs), axis=2))\n",
    "initial_r_HD = torch.from_numpy(trajectories[:,0,:])\n",
    "\n",
    "initial_r_AVplus = rnn.w_AVplus_HD * torch.einsum('ij,bj->bi', rnn.W_AVplus_HD, initial_r_HD)\n",
    "initial_r_AVminus = rnn.w_AVplus_HD * torch.einsum('ij,bj->bi', rnn.W_AVminus_HD, initial_r_HD)\n",
    "\n",
    "initial_r_Del7 = 2 * rnn.w0 * rnn.kappa_0/(np.pi*(1-2*rnn.m0)) + rnn.w1 * rnn.kappa_0/(2*(1-rnn.m1))*torch.cos(rnn.phi_0_r_Del7-rnn.phi_0)\n",
    "initial_r_Del7 = initial_r_Del7.unsqueeze(0).repeat(initial_r_HD.shape[0],1)\n",
    "\n",
    "initial_state = torch.cat((initial_r_HD, initial_r_AVplus, initial_r_AVminus, initial_r_Del7), axis=1)\n",
    "\n",
    "initial_state = initial_state.unsqueeze(0)\n",
    "\n",
    "r_full, r_final = rnn(inputs, initial_state)\n",
    "\n",
    "#r_full should be bxtxd\n",
    "r_HD_net = r_full[:,:,:N]\n",
    "\n",
    "mu_net, kappa_net = get_mu_kappa(N, r_HD_net)"
   ]
  },
  {
   "cell_type": "code",
   "execution_count": 2,
   "metadata": {},
   "outputs": [
    {
     "name": "stdout",
     "output_type": "stream",
     "text": [
      "[0. 3. 6. 9.]\n"
     ]
    }
   ],
   "source": [
    "import numpy as np\n",
    "\n",
    "x = np.arange(4)\n",
    "y = 3* np.ones(4)\n",
    "\n",
    "print(x*y)"
   ]
  },
  {
   "cell_type": "code",
   "execution_count": 174,
   "metadata": {},
   "outputs": [
    {
     "data": {
      "text/plain": [
       "tensor([[0.0360, 0.0359, 0.0357,  ..., 0.0353, 0.0357, 0.0359],\n",
       "        [0.0359, 0.0360, 0.0359,  ..., 0.0347, 0.0353, 0.0357],\n",
       "        [0.0357, 0.0359, 0.0360,  ..., 0.0340, 0.0347, 0.0353],\n",
       "        ...,\n",
       "        [0.0353, 0.0347, 0.0340,  ..., 0.0360, 0.0359, 0.0357],\n",
       "        [0.0357, 0.0353, 0.0347,  ..., 0.0359, 0.0360, 0.0359],\n",
       "        [0.0359, 0.0357, 0.0353,  ..., 0.0357, 0.0359, 0.0360]],\n",
       "       dtype=torch.float64)"
      ]
     },
     "execution_count": 174,
     "metadata": {},
     "output_type": "execute_result"
    }
   ],
   "source": [
    "rnn.W_HD_HD"
   ]
  },
  {
   "cell_type": "code",
   "execution_count": 180,
   "metadata": {},
   "outputs": [
    {
     "name": "stdout",
     "output_type": "stream",
     "text": [
      "0.17353034752595942\n"
     ]
    }
   ],
   "source": [
    "print(rnn.alpha)"
   ]
  },
  {
   "cell_type": "code",
   "execution_count": 179,
   "metadata": {},
   "outputs": [],
   "source": [
    "import pickle\n",
    "import scipy.io as sio\n",
    "\n",
    "params = {\n",
    "    \"W_HD_HD\" : rnn.W_HD_HD.numpy(),\n",
    "    \"W_HD_AVplus\" : rnn.W_HD_AVplus.numpy(),\n",
    "    \"W_HD_AVminus\" : rnn.W_HD_AVminus.numpy(),\n",
    "    \"W_AVplus_HD\" : rnn.W_AVplus_HD.numpy(),\n",
    "    \"W_AVminus_HD\" : rnn.W_AVminus_HD.numpy(),\n",
    "    \"W_Del7_HD\" : rnn.W_Del7_HD.numpy(),\n",
    "    \"W_Del7_Del7\" : rnn.W_Del7_Del7.numpy(),\n",
    "    \"W_HD_Del7\" : rnn.W_HD_Del7.numpy(),\n",
    "    \"phi_0_r_HD\": rnn.phi_0_r_HD.numpy(),\n",
    "    \"phi_0_r_Del7\": rnn.phi_0_r_Del7.numpy(),\n",
    "    \"alpha\": rnn.alpha\n",
    "}\n",
    "\n",
    "with open('/Users/dysprague/fixed-point-finder/data/fly_RNN_params.pkl','wb') as f:\n",
    "    pickle.dump(params, f, pickle.HIGHEST_PROTOCOL)\n",
    "\n",
    "with open('/Users/dysprague/fixed-point-finder/data/fly_RNN_params.pkl','rb') as f:\n",
    "    params = pickle.load(f)\n",
    "    sio.savemat('/Users/dysprague/fixed-point-finder/data/fly_RNN_params.mat', params)\n"
   ]
  },
  {
   "cell_type": "code",
   "execution_count": 160,
   "metadata": {},
   "outputs": [
    {
     "data": {
      "text/plain": [
       "torch.Size([100, 20000, 100])"
      ]
     },
     "execution_count": 160,
     "metadata": {},
     "output_type": "execute_result"
    }
   ],
   "source": [
    "r_AV_net.shape"
   ]
  },
  {
   "cell_type": "code",
   "execution_count": 167,
   "metadata": {},
   "outputs": [],
   "source": [
    "r_use = r_full.numpy()\n",
    "\n",
    "r_AV_net = r_use[:,:,100:200]\n",
    "\n",
    "r_AV_range = np.max(r_AV_net, axis=2) - np.min(r_AV_net, axis=2)\n",
    "\n",
    "q_diff = np.diff(r_use, axis=1)\n",
    "q_b = 0.5*np.sum(np.square(q_diff),axis=2)\n"
   ]
  },
  {
   "cell_type": "code",
   "execution_count": 169,
   "metadata": {},
   "outputs": [],
   "source": [
    "fig, axs = plt.subplots(4,1, sharex=True)\n",
    "\n",
    "for b in range(r_full.shape[0]):\n",
    "\n",
    "    axs[0].plot(mu_net[b,:])\n",
    "    axs[1].plot(kappa_net[b,:])\n",
    "    axs[2].plot(q_b[b,:])\n",
    "    axs[3].plot(r_AV_range[b,:])\n",
    "\n",
    "plt.show()\n",
    "    "
   ]
  },
  {
   "cell_type": "code",
   "execution_count": 20,
   "metadata": {},
   "outputs": [
    {
     "name": "stdout",
     "output_type": "stream",
     "text": [
      "-26255400.72955815\n"
     ]
    }
   ],
   "source": [
    "print(np.sum(trajectories-r_full[:,:,:100].numpy()))"
   ]
  },
  {
   "cell_type": "code",
   "execution_count": 17,
   "metadata": {},
   "outputs": [
    {
     "data": {
      "text/plain": [
       "(10, 20000, 100)"
      ]
     },
     "execution_count": 17,
     "metadata": {},
     "output_type": "execute_result"
    }
   ],
   "source": [
    "trajectories.shape"
   ]
  },
  {
   "cell_type": "code",
   "execution_count": 18,
   "metadata": {},
   "outputs": [
    {
     "data": {
      "text/plain": [
       "torch.Size([10, 20000, 300])"
      ]
     },
     "execution_count": 18,
     "metadata": {},
     "output_type": "execute_result"
    }
   ],
   "source": [
    "r_full.shape"
   ]
  },
  {
   "cell_type": "markdown",
   "metadata": {},
   "source": [
    "## Test Drosophila RNN with different inputs to estimate steady state values"
   ]
  },
  {
   "cell_type": "code",
   "execution_count": 88,
   "metadata": {},
   "outputs": [
    {
     "data": {
      "text/plain": [
       "(10, 20000)"
      ]
     },
     "execution_count": 88,
     "metadata": {},
     "output_type": "execute_result"
    }
   ],
   "source": [
    "HD_obs.shape"
   ]
  },
  {
   "cell_type": "code",
   "execution_count": 95,
   "metadata": {},
   "outputs": [],
   "source": [
    "rnn = drosophRNN(dt=dt, kappa_phi =kappa_phi, kappa_y=kappa_y_v)\n",
    "\n",
    "HD_input = 0\n",
    "HD_obs_test = np.ones((HD_obs.shape[0],1000))*HD_input\n",
    "\n",
    "AV_input = 0\n",
    "AV_obs_test = np.ones((AV_obs.shape[0],1000))*AV_input\n",
    "\n",
    "inputs = torch.from_numpy(np.stack((HD_obs, AV_obs), axis=2))\n",
    "inputs_test = torch.from_numpy(np.stack((HD_obs_test, AV_obs_test), axis=2))\n",
    "\n",
    "sample_indices = np.random.randint(inputs_test.shape[1], size=inputs_test.shape[0])\n",
    "\n",
    "state_samples = np.zeros((sample_indices.shape[0], trajectories.shape[2]))\n",
    "for i, sample in enumerate(sample_indices):\n",
    "    state_samples[i,:] = trajectories[i, sample, :] \n",
    "\n",
    "#initial_r_HD = torch.from_numpy(trajectories[:,0,:])\n",
    "\n",
    "initial_r_HD = torch.from_numpy(state_samples)\n",
    "\n",
    "initial_r_AVplus = rnn.w_AVplus_HD * torch.einsum('ij,bj->bi', rnn.W_AVplus_HD, initial_r_HD)\n",
    "initial_r_AVminus = rnn.w_AVplus_HD * torch.einsum('ij,bj->bi', rnn.W_AVminus_HD, initial_r_HD)\n",
    "\n",
    "initial_r_Del7 = 2 * rnn.w0 * rnn.kappa_0/(np.pi*(1-2*rnn.m0)) + rnn.w1 * rnn.kappa_0/(2*(1-rnn.m1))*torch.cos(rnn.phi_0_r_Del7-rnn.phi_0)\n",
    "initial_r_Del7 = initial_r_Del7.unsqueeze(0).repeat(initial_r_HD.shape[0],1)\n",
    "\n",
    "initial_state = torch.cat((initial_r_HD, initial_r_AVplus, initial_r_AVminus, initial_r_Del7), axis=1)\n",
    "\n",
    "initial_state = initial_state.unsqueeze(0) \n",
    "initial_state_rand = torch.from_numpy(np.random.normal(scale=20., size=initial_state.shape))\n",
    "\n",
    "r_full_test, r_final = rnn(inputs_test, initial_state_rand)\n",
    "\n",
    "#r_full should be bxtxd\n",
    "r_HD_net = r_full_test[:,:,:N]\n",
    "\n",
    "mu_net, kappa_net = get_mu_kappa(N, r_HD_net)"
   ]
  },
  {
   "cell_type": "code",
   "execution_count": 91,
   "metadata": {},
   "outputs": [
    {
     "data": {
      "text/plain": [
       "torch.Size([10, 1000, 100])"
      ]
     },
     "execution_count": 91,
     "metadata": {},
     "output_type": "execute_result"
    }
   ],
   "source": [
    "r_HD_net.shape"
   ]
  },
  {
   "cell_type": "code",
   "execution_count": 104,
   "metadata": {},
   "outputs": [
    {
     "data": {
      "text/plain": [
       "torch.Size([10, 1000, 300])"
      ]
     },
     "execution_count": 104,
     "metadata": {},
     "output_type": "execute_result"
    }
   ],
   "source": [
    "r_full_test.shape"
   ]
  },
  {
   "cell_type": "code",
   "execution_count": 109,
   "metadata": {},
   "outputs": [
    {
     "name": "stdout",
     "output_type": "stream",
     "text": [
      "[4.60978268 0.2400115  2.17177012 3.10728971 5.8116832  5.53387009\n",
      " 2.16919519 4.16019362 0.11450011 3.18390432]\n",
      "[ 1.47632647 -0.27497677  2.11566736 -0.70737431 -0.83449334  0.84384893\n",
      " -3.72225409  1.1062163   0.39087282 -0.70346511]\n"
     ]
    }
   ],
   "source": [
    "x = np.mean(r_full_test.numpy()[:,13,:100], axis=1)\n",
    "print(kappa_net[:,13])\n",
    "\n",
    "print(x)\n",
    "\n"
   ]
  },
  {
   "cell_type": "code",
   "execution_count": 102,
   "metadata": {},
   "outputs": [],
   "source": [
    "fig, axs = plt.subplots(4,1)\n",
    "\n",
    "for i in range(mu_net.shape[0]):\n",
    "    axs[0].plot(mu_net[i,:])\n",
    "    axs[1].plot(kappa_net[i,:])\n",
    "\n",
    "    axs[2].plot(r_full_test[i,13,:])\n",
    "    #axs[2].plot(initial_state_rand[0,i,:])\n",
    "    axs[3].plot(r_full_test[i,15,:])\n",
    "\n",
    "plt.show()"
   ]
  },
  {
   "cell_type": "code",
   "execution_count": 76,
   "metadata": {},
   "outputs": [],
   "source": [
    "def IdMatr(x_to,x_from,sig=0.001):\n",
    "\tN_to = x_to.size\n",
    "\tN_from = x_from.size\n",
    "\tIdM = np.zeros((N_to,N_from))\n",
    "\tfor i in range(N_to):\n",
    "\t\tfor j in range(N_from):\n",
    "\t\t\tdist = np.arccos(np.cos(x_to[i]-x_from[j]))\n",
    "\t\t\tIdM[i,j] = (1/(np.sqrt(2*np.pi)*sig)\n",
    "\t\t\t\t\t\t\t* np.exp(-(1/2)*(dist**2/sig**2 ) ) )\n",
    "\tIdM = IdM/np.sum(IdM,1)[0]  # normalize\n",
    "\treturn IdM"
   ]
  },
  {
   "cell_type": "code",
   "execution_count": 77,
   "metadata": {},
   "outputs": [],
   "source": [
    "def get_mu_kappa_singlet(N_HD, r_HD):\n",
    "    phi_0_HD = np.linspace(-np.pi,np.pi-(2*np.pi)/N_HD,N_HD)  # HD preferred angle\n",
    "\n",
    "    # decode stochastic variables from HD population\n",
    "    A_cos =  np.array([np.cos(phi_0_HD),np.sin(phi_0_HD)])\n",
    "    theta = 2/N_HD * np.einsum('LN,bN->bL', A_cos, r_HD) # FT in Cartesian domain\n",
    "    kappa = np.sqrt(np.sum(theta**2,axis=-1)) #convert to polar coordinates\n",
    "    mu = np.arctan2(theta[...,1],theta[...,0])\n",
    "    return mu, kappa"
   ]
  },
  {
   "cell_type": "code",
   "execution_count": 78,
   "metadata": {},
   "outputs": [],
   "source": [
    "mu_init, kappa_init = get_mu_kappa_singlet(state_samples.shape[1], state_samples) # mu_unit = batch x 1\n",
    "\n",
    "HD_samples = mu_init + np.random.uniform(-np.pi/4, np.pi/4, len(mu_init))\n",
    "HD_samples = np.stack([HD_samples for _ in range(inputs_test.shape[1])], axis=1)\n"
   ]
  },
  {
   "cell_type": "code",
   "execution_count": 137,
   "metadata": {},
   "outputs": [
    {
     "data": {
      "text/plain": [
       "(100, 1000)"
      ]
     },
     "execution_count": 137,
     "metadata": {},
     "output_type": "execute_result"
    }
   ],
   "source": [
    "HD_samples.shape"
   ]
  },
  {
   "cell_type": "code",
   "execution_count": 130,
   "metadata": {},
   "outputs": [
    {
     "data": {
      "text/plain": [
       "torch.Size([100, 1000, 2])"
      ]
     },
     "execution_count": 130,
     "metadata": {},
     "output_type": "execute_result"
    }
   ],
   "source": [
    "inputs_test.shape"
   ]
  },
  {
   "cell_type": "code",
   "execution_count": 143,
   "metadata": {},
   "outputs": [],
   "source": [
    "mu_init, kappa_init = get_mu_kappa_singlet(state_samples.shape[1], state_samples) # mu_unit = batch x 1\n",
    "\n",
    "HD_samples = mu_init + np.random.uniform(-np.pi/4, np.pi/4, len(mu_init))\n",
    "HD_samples = np.stack([HD_samples for _ in range(inputs_test.shape[1])], axis=1)\n",
    "\n",
    "inputs_test[:,:,0] = torch.from_numpy(HD_samples)\n",
    "\n",
    "r_full_same_side, r_final_same_side = rnn(inputs_test, initial_state)\n",
    "\n",
    "r_HD_net_same = r_full_same_side[:,:,:N]\n",
    "\n",
    "mu_net_sameside, kappa_net_sameside = get_mu_kappa(N, r_HD_net_same)"
   ]
  },
  {
   "cell_type": "code",
   "execution_count": 145,
   "metadata": {},
   "outputs": [],
   "source": [
    "r_HD_net_same = r_full_same_side[:,:,:N]\n",
    "mu_net_sameside, kappa_net_sameside = get_mu_kappa(N, r_HD_net_same)"
   ]
  },
  {
   "cell_type": "code",
   "execution_count": 146,
   "metadata": {},
   "outputs": [],
   "source": [
    "mu_init, kappa_init = get_mu_kappa_singlet(state_samples.shape[1], state_samples) # mu_unit = batch x 1\n",
    "\n",
    "HD_samples = mu_init + np.random.uniform(-np.pi/4+np.pi, np.pi/4+np.pi, len(mu_init))\n",
    "HD_samples = np.stack([HD_samples for _ in range(inputs_test.shape[1])], axis=1)\n",
    "\n",
    "inputs_test[:,:,0] = torch.from_numpy(HD_samples)\n",
    "\n",
    "r_full_diff_side, r_final_diff_side = rnn(inputs_test, initial_state)\n",
    "\n",
    "r_HD_net_diff = r_full_diff_side[:,:,:N]\n",
    "\n",
    "mu_net_diffside, kappa_net_diffside = get_mu_kappa(N, r_HD_net_diff)"
   ]
  },
  {
   "cell_type": "code",
   "execution_count": 79,
   "metadata": {},
   "outputs": [],
   "source": [
    "def check_decreasing(array):\n",
    "\n",
    "    for i in range(1,len(array)):\n",
    "        if array[i-1]<array[i]:\n",
    "            return False\n",
    "        \n",
    "    return True\n",
    "\n",
    "def plot_sim_test(mu_net, kappa_net, r_full_test):\n",
    "    fig,axs = plt.subplots(3,2, sharex=True)\n",
    "\n",
    "    r_full_numpy = r_full_test.numpy()\n",
    "\n",
    "    dt_diff = r_full_numpy[:,1:,:]-r_full_numpy[:,:-1,:]\n",
    "    q_b = 0.5*np.sum(np.square(dt_diff),axis=2)\n",
    "\n",
    "    decrease =0 \n",
    "    increase = 0\n",
    "\n",
    "    for b in range(r_full_test.shape[0]):\n",
    "\n",
    "        if check_decreasing(q_b[b,:]):\n",
    "\n",
    "            min_tp = np.argmin(kappa_net[b,:])\n",
    "            r_min = r_full_test[b,min_tp,:]\n",
    "\n",
    "            axs[0,0].plot(mu_net[b,:])\n",
    "            axs[1,0].plot(kappa_net[b,:])\n",
    "            axs[2,0].plot(q_b[b,:])\n",
    "            #axs[3,0].plot(r_min)\n",
    "            decrease +=1\n",
    "\n",
    "        elif not check_decreasing(q_b[b,:]):\n",
    "            min_tp = np.argmin(kappa_net[b,:])\n",
    "            r_min = r_full_test[b,min_tp,:]\n",
    "\n",
    "            axs[0,1].plot(mu_net[b,:])\n",
    "            axs[1,1].plot(kappa_net[b,:])\n",
    "            axs[2,1].plot(q_b[b,:])\n",
    "            #axs[3,1].plot(r_min)\n",
    "\n",
    "            print(mu_net[b,min_tp])\n",
    "\n",
    "            increase +=1\n",
    "\n",
    "    plt.xlim([0,40])\n",
    "    plt.show()\n",
    "\n",
    "    print(decrease)\n",
    "    print(increase)"
   ]
  },
  {
   "cell_type": "code",
   "execution_count": 151,
   "metadata": {},
   "outputs": [
    {
     "name": "stdout",
     "output_type": "stream",
     "text": [
      "100\n",
      "0\n"
     ]
    }
   ],
   "source": [
    "plot_sim_test(mu_net_sameside, kappa_net_sameside, r_full_same_side)"
   ]
  },
  {
   "cell_type": "code",
   "execution_count": 152,
   "metadata": {},
   "outputs": [
    {
     "name": "stdout",
     "output_type": "stream",
     "text": [
      "-0.5248764724271993\n",
      "-1.8550526324762706\n",
      "1.5785989411966141\n",
      "-0.6512289096951636\n",
      "1.283989401960729\n",
      "-1.1926446908374542\n",
      "0.5102785394467356\n",
      "-1.351574092614486\n",
      "-0.599610789307323\n",
      "-1.9252130666096452\n",
      "1.831819747038528\n",
      "-1.2000152995645093\n",
      "1.3205247718514013\n",
      "-1.2085274733248317\n",
      "-1.1224713349986526\n",
      "0.3266511968993355\n",
      "-0.693372945127477\n",
      "0.03526777198972459\n",
      "1.3491232088069813\n",
      "0.551705414679253\n",
      "1.0837440539557308\n",
      "1.889735194861241\n",
      "-1.8502820756228473\n",
      "0.2914359240817177\n",
      "-0.5931221182406214\n",
      "1.369315860316316\n",
      "2.2213059381755436\n",
      "-1.0346177192582438\n",
      "0.7622607755716848\n",
      "-2.0131323073770107\n",
      "2.6335431639810336\n",
      "1.1198645648984176\n",
      "0.4008542179230894\n",
      "-1.8645665872892914\n",
      "-0.5333362704500284\n",
      "-1.1037506714878855\n",
      "0.9857778201181365\n",
      "-0.4841477752307195\n",
      "-1.1939530831647855\n",
      "-0.8268301323277254\n",
      "1.5527583373988085\n",
      "-1.2447052374319199\n",
      "-0.29884295471792144\n",
      "0.18152980465808594\n",
      "2.2920481586220456\n",
      "1.639199139574539\n",
      "1.1224463373824325\n",
      "2.8014140195489263\n",
      "1.4862708305292167\n",
      "0.9968748814161524\n",
      "0.23360012026877786\n",
      "-2.4260345554046516\n",
      "0.622089576783853\n",
      "2.918638342814007\n",
      "-1.5479168047543932\n",
      "1.1044386553799226\n",
      "-0.5876947331603577\n",
      "-1.0347681193737606\n",
      "1.1326162231627115\n",
      "1.769258500481577\n",
      "-2.5162640025736462\n",
      "-1.5211321182878168\n",
      "2.3861927676053143\n",
      "-0.3701484581233034\n",
      "-1.8930580651169366\n",
      "1.4702089803574\n",
      "1.4619117037991265\n",
      "0.36894015599679475\n",
      "1.1129410743196377\n",
      "-0.5328359022888265\n",
      "1.1645696769433507\n",
      "3.098440190408661\n",
      "1.5835440600399797\n",
      "-1.9300079630441807\n",
      "-0.8565537946460335\n",
      "2.299982673457872\n",
      "-0.6243839048940478\n",
      "0.8810943156460412\n",
      "-2.4167662840280535\n",
      "-0.9269401072565485\n",
      "0.3105547623111876\n",
      "-1.201170506102201\n",
      "2.3244319599504184\n",
      "-0.5711335013426228\n",
      "0.8806844780191888\n",
      "1.396687772619178\n",
      "0.18259472079135247\n",
      "-1.5075704882863812\n",
      "-1.8336397318372257\n",
      "-1.071040304815388\n",
      "1.347818273892064\n",
      "1.9243480192703788\n",
      "1.876570067463973\n",
      "-1.1460467989117962\n",
      "-1.5138434242147423\n",
      "1.684279039934474\n",
      "-1.312875345167716\n",
      "-0.5962149339553496\n",
      "1.3960419886495459\n",
      "0.983145202747151\n",
      "0\n",
      "100\n"
     ]
    }
   ],
   "source": [
    "plot_sim_test(mu_net_diffside, kappa_net_diffside, r_full_diff_side)"
   ]
  },
  {
   "cell_type": "code",
   "execution_count": null,
   "metadata": {},
   "outputs": [],
   "source": [
    "fig,axs = plt.subplots(4,2, sharex=True)\n",
    "\n",
    "r_full_numpy = r_full_test.numpy()\n",
    "\n",
    "dt_diff = r_full_numpy[:,1:,:]-r_full_numpy[:,:-1,:]\n",
    "q_b = 0.5*np.sum(np.square(dt_diff),axis=2)\n",
    "\n",
    "decrease =0 \n",
    "increase = 0\n",
    "\n",
    "for b in range(r_HD_net.shape[0]):\n",
    "\n",
    "    if check_decreasing(q_b[b,:]):\n",
    "\n",
    "        min_tp = np.argmin(kappa_net[b,:])\n",
    "        r_min = r_full_test[b,min_tp,:]\n",
    "\n",
    "        axs[0,0].plot(mu_net[b,:])\n",
    "        axs[1,0].plot(kappa_net[b,:])\n",
    "        axs[2,0].plot(q_b[b,:])\n",
    "        axs[3,0].plot(r_min)\n",
    "        decrease +=1\n",
    "\n",
    "    elif not check_decreasing(q_b[b,:]):\n",
    "        min_tp = np.argmin(kappa_net[b,:])\n",
    "        r_min = r_full_test[b,min_tp,:]\n",
    "\n",
    "        axs[0,1].plot(mu_net[b,:])\n",
    "        axs[1,1].plot(kappa_net[b,:])\n",
    "        axs[2,1].plot(q_b[b,:])\n",
    "        axs[3,1].plot(r_min)\n",
    "\n",
    "        print(mu_net[b,min_tp])\n",
    "\n",
    "        increase +=1\n",
    "\n",
    "plt.xlim([0,40])\n",
    "plt.show()\n",
    "\n",
    "print(decrease)\n",
    "print(increase)"
   ]
  },
  {
   "cell_type": "code",
   "execution_count": 96,
   "metadata": {},
   "outputs": [
    {
     "data": {
      "text/plain": [
       "(100, 100)"
      ]
     },
     "execution_count": 96,
     "metadata": {},
     "output_type": "execute_result"
    }
   ],
   "source": [
    "state_samples.shape"
   ]
  },
  {
   "cell_type": "code",
   "execution_count": 98,
   "metadata": {},
   "outputs": [
    {
     "data": {
      "text/plain": [
       "(100, 999)"
      ]
     },
     "execution_count": 98,
     "metadata": {},
     "output_type": "execute_result"
    }
   ],
   "source": [
    "q_b.shape"
   ]
  },
  {
   "cell_type": "code",
   "execution_count": 99,
   "metadata": {},
   "outputs": [],
   "source": []
  },
  {
   "cell_type": "code",
   "execution_count": 101,
   "metadata": {},
   "outputs": [
    {
     "name": "stdout",
     "output_type": "stream",
     "text": [
      "torch.Size([100, 1000, 300])\n"
     ]
    }
   ],
   "source": [
    "print(r_full_test.shape)"
   ]
  },
  {
   "cell_type": "code",
   "execution_count": 121,
   "metadata": {},
   "outputs": [
    {
     "name": "stdout",
     "output_type": "stream",
     "text": [
      "1.5131114376072905\n",
      "1.5264328617038596\n",
      "-1.4863297680530259\n",
      "97\n",
      "3\n"
     ]
    }
   ],
   "source": [
    "fig,axs = plt.subplots(4,2, sharex=True)\n",
    "\n",
    "r_full_numpy = r_full_test.numpy()\n",
    "\n",
    "dt_diff = r_full_numpy[:,1:,:]-r_full_numpy[:,:-1,:]\n",
    "q_b = 0.5*np.sum(np.square(dt_diff),axis=2)\n",
    "\n",
    "decrease =0 \n",
    "increase = 0\n",
    "\n",
    "for b in range(r_HD_net.shape[0]):\n",
    "\n",
    "    if check_decreasing(q_b[b,:]):\n",
    "\n",
    "        min_tp = np.argmin(kappa_net[b,:])\n",
    "        r_min = r_full_test[b,min_tp,:]\n",
    "\n",
    "        axs[0,0].plot(mu_net[b,:])\n",
    "        axs[1,0].plot(kappa_net[b,:])\n",
    "        axs[2,0].plot(q_b[b,:])\n",
    "        axs[3,0].plot(r_min)\n",
    "        decrease +=1\n",
    "\n",
    "    elif not check_decreasing(q_b[b,:]):\n",
    "        min_tp = np.argmin(kappa_net[b,:])\n",
    "        r_min = r_full_test[b,min_tp,:]\n",
    "\n",
    "        axs[0,1].plot(mu_net[b,:])\n",
    "        axs[1,1].plot(kappa_net[b,:])\n",
    "        axs[2,1].plot(q_b[b,:])\n",
    "        axs[3,1].plot(r_min)\n",
    "\n",
    "        print(mu_net[b,min_tp])\n",
    "\n",
    "        increase +=1\n",
    "\n",
    "plt.xlim([0,40])\n",
    "plt.show()\n",
    "\n",
    "print(decrease)\n",
    "print(increase)"
   ]
  },
  {
   "cell_type": "code",
   "execution_count": 66,
   "metadata": {},
   "outputs": [
    {
     "data": {
      "image/png": "[encoded data removed]",
      "text/plain": [
       "<Figure size 640x480 with 1 Axes>"
      ]
     },
     "metadata": {},
     "output_type": "display_data"
    }
   ],
   "source": [
    "fig = plt.figure()\n",
    "\n",
    "\n",
    "AV_trace = r_full[0, :, 100]\n",
    "\n",
    "\n",
    "\n",
    "plt.plot(AV_trace)\n",
    "\n",
    "plt.show()"
   ]
  },
  {
   "cell_type": "markdown",
   "metadata": {},
   "source": [
    "## Data analysis"
   ]
  },
  {
   "cell_type": "code",
   "execution_count": 168,
   "metadata": {},
   "outputs": [],
   "source": [
    "%matplotlib qt \n",
    "\n",
    "fps = np.load('/Users/dysprague/fixed-point-finder/data/fly_HD_varied_0_AV.npy')\n",
    "\n",
    "row_max = np.max(fps, axis=1)\n",
    "mask = row_max < 5\n",
    "\n",
    "thresh_fps = fps[mask,:]\n",
    "\n",
    "fig = plt.figure()\n",
    "\n",
    "for fp in range(thresh_fps.shape[0]):\n",
    "    plt.plot(thresh_fps[fp,:])\n",
    "\n",
    "plt.show()\n"
   ]
  },
  {
   "cell_type": "code",
   "execution_count": 16,
   "metadata": {},
   "outputs": [
    {
     "data": {
      "text/plain": [
       "torch.Size([1, 19, 300])"
      ]
     },
     "execution_count": 16,
     "metadata": {},
     "output_type": "execute_result"
    }
   ],
   "source": [
    "initial_state.shape"
   ]
  },
  {
   "cell_type": "code",
   "execution_count": 119,
   "metadata": {},
   "outputs": [],
   "source": [
    "import sklearn"
   ]
  },
  {
   "cell_type": "code",
   "execution_count": 169,
   "metadata": {},
   "outputs": [],
   "source": [
    "rnn = drosophRNN(dt=dt, kappa_phi =kappa_phi, kappa_y=kappa_y_v)\n",
    "\n",
    "thresh_fps_test = thresh_fps\n",
    "thresh_fps_test[:,:100] = thresh_fps_test[:,:100]/2\n",
    "\n",
    "initial_state = torch.from_numpy(thresh_fps_test)\n",
    "\n",
    "initial_state = initial_state.unsqueeze(0)\n",
    "\n",
    "inputs = torch.from_numpy(np.zeros((initial_state.shape[1],5000,2)))\n",
    "inputs[:,:,0] = torch.from_numpy((np.pi/2)*np.ones((initial_state.shape[1],5000)))\n",
    "\n",
    "r_full, r_final = rnn(inputs, initial_state)\n",
    "\n",
    "#r_full should be bxtxd\n",
    "r_HD_net_thresh_fps = r_full[:,:,:N]\n",
    "\n",
    "mu_net_thresh_fps, kappa_net_thresh_fps = get_mu_kappa(N, r_HD_net_thresh_fps)"
   ]
  },
  {
   "cell_type": "code",
   "execution_count": 156,
   "metadata": {},
   "outputs": [],
   "source": [
    "mu_fps, kappa_fps = get_mu_kappa_singlet(100, thresh_fps[:,:100])"
   ]
  },
  {
   "cell_type": "code",
   "execution_count": 170,
   "metadata": {},
   "outputs": [],
   "source": [
    "fig, axs = plt.subplots(2,1)\n",
    "\n",
    "for i in range(r_HD_net_thresh_fps.shape[0]):\n",
    "    axs[0].plot(r_HD_net_thresh_fps[i,0,:])\n",
    "    axs[1].plot(r_HD_net_thresh_fps[i,-1,:])\n",
    "\n",
    "plt.show()"
   ]
  },
  {
   "cell_type": "code",
   "execution_count": 122,
   "metadata": {},
   "outputs": [
    {
     "data": {
      "text/plain": [
       "(19, 300)"
      ]
     },
     "execution_count": 122,
     "metadata": {},
     "output_type": "execute_result"
    }
   ],
   "source": [
    "thresh_fps.shape"
   ]
  },
  {
   "cell_type": "code",
   "execution_count": 125,
   "metadata": {},
   "outputs": [
    {
     "name": "stdout",
     "output_type": "stream",
     "text": [
      "[0.38908896 0.39162316 0.37571654 0.4050435  0.43153904 0.38044149\n",
      " 0.38752381 0.37254977 0.37555479 0.39689524 0.50351309 0.41987622\n",
      " 0.39203833 0.3957918  0.38911004 0.41735427 0.40040666 0.39178706\n",
      " 0.37793972]\n"
     ]
    }
   ],
   "source": [
    "print(kappa_fps)\n",
    "r0HD_thresh = np.zeros(thresh_fps.shape[0])\n",
    "for i in range(thresh_fps.shape[0]):\n",
    "    fp = thresh_fps[i,:100]\n",
    "    r0HD[i] = sklearn.metrics.auc(np.linspace(-np.pi,np.pi-(2*np.pi)/100,100),fp)/np.pi\n"
   ]
  },
  {
   "cell_type": "code",
   "execution_count": 126,
   "metadata": {},
   "outputs": [],
   "source": [
    "fig = plt.figure()\n",
    "plt.scatter(kappa_fps, r0HD)\n",
    "\n",
    "plt.show()"
   ]
  },
  {
   "cell_type": "code",
   "execution_count": 112,
   "metadata": {},
   "outputs": [
    {
     "name": "stdout",
     "output_type": "stream",
     "text": [
      "torch.Size([19, 5000, 100])\n",
      "(19, 300)\n"
     ]
    }
   ],
   "source": [
    "print(r_HD_net.shape)\n",
    "print(thresh_fps.shape)"
   ]
  },
  {
   "cell_type": "code",
   "execution_count": 26,
   "metadata": {},
   "outputs": [],
   "source": [
    "fig,axs = plt.subplots(3,1)\n",
    "\n",
    "for b in range(r_HD_net.shape[0]):\n",
    "\n",
    "    axs[0].plot(mu_net[b,:,])\n",
    "    axs[1].plot(kappa_net[b,:,])\n",
    "    axs[2].plot(r_full[b,-130,:])\n",
    "\n",
    "plt.show()\n"
   ]
  },
  {
   "cell_type": "code",
   "execution_count": 127,
   "metadata": {},
   "outputs": [],
   "source": [
    "loaded_data = np.load('/Users/dysprague/fixed-point-finder/data/fly_HD_varied_0_AV_fps.npz')\n",
    "\n",
    "inits = loaded_data['inits']\n",
    "fstar = loaded_data['fstar']\n",
    "q_b = loaded_data['q_b']"
   ]
  },
  {
   "cell_type": "code",
   "execution_count": 225,
   "metadata": {},
   "outputs": [],
   "source": [
    "loaded_data = np.load('/Users/dysprague/fixed-point-finder/data/fly_HD_pi2_AV_001.npz')\n",
    "\n",
    "inits = loaded_data['inits'] \n",
    "fstar = loaded_data['fstar']\n",
    "q_b = loaded_data['q_b']"
   ]
  },
  {
   "cell_type": "code",
   "execution_count": 230,
   "metadata": {},
   "outputs": [],
   "source": [
    "loaded_data = np.load('/Users/dysprague/fixed-point-finder/data/fly_HD_removed_001_AV.npz')\n",
    "\n",
    "inits = loaded_data['inits'] \n",
    "fstar = loaded_data['fstar']\n",
    "q_b = loaded_data['q_b']"
   ]
  },
  {
   "cell_type": "code",
   "execution_count": 235,
   "metadata": {},
   "outputs": [],
   "source": [
    "loaded_data = np.load('/Users/dysprague/fixed-point-finder/data/fly_HD_removed_0_AV.npz')\n",
    "\n",
    "inits = loaded_data['inits'] \n",
    "fstar = loaded_data['fstar']\n",
    "q_b = loaded_data['q_b']"
   ]
  },
  {
   "cell_type": "code",
   "execution_count": 293,
   "metadata": {},
   "outputs": [],
   "source": [
    "loaded_data = np.load('/Users/dysprague/fixed-point-finder/data/fly_HD_varied_AV_varied.npz')\n",
    "\n",
    "inits = loaded_data['inits'] \n",
    "fstar = loaded_data['fstar']\n",
    "q_b = loaded_data['q_b']"
   ]
  },
  {
   "cell_type": "code",
   "execution_count": 294,
   "metadata": {},
   "outputs": [],
   "source": [
    "fig = plt.figure()\n",
    "\n",
    "plt.plot(q_b)\n",
    "\n",
    "plt.show()"
   ]
  },
  {
   "cell_type": "code",
   "execution_count": 307,
   "metadata": {},
   "outputs": [],
   "source": [
    "thresh_idxs = q_b>0.02\n",
    "thresh_inits = inits[thresh_idxs,:]\n",
    "thresh_fstar = fstar[thresh_idxs,:]"
   ]
  },
  {
   "cell_type": "code",
   "execution_count": 308,
   "metadata": {},
   "outputs": [],
   "source": [
    "unthresh_idxs = q_b <=0.02\n",
    "unthresh_inits = inits[unthresh_idxs,:]\n",
    "unthresh_fstar = fstar[unthresh_idxs,:]"
   ]
  },
  {
   "cell_type": "code",
   "execution_count": 303,
   "metadata": {},
   "outputs": [
    {
     "name": "stdout",
     "output_type": "stream",
     "text": [
      "(10, 20000)\n",
      "(10, 20000, 100)\n"
     ]
    },
    {
     "ename": "AttributeError",
     "evalue": "'numpy.ndarray' object has no attribute 'numpy'",
     "output_type": "error",
     "traceback": [
      "\u001b[0;31m---------------------------------------------------------------------------\u001b[0m",
      "\u001b[0;31mAttributeError\u001b[0m                            Traceback (most recent call last)",
      "Cell \u001b[0;32mIn[303], line 3\u001b[0m\n\u001b[1;32m      1\u001b[0m \u001b[38;5;28mprint\u001b[39m(kappa_net\u001b[38;5;241m.\u001b[39mshape)\n\u001b[1;32m      2\u001b[0m \u001b[38;5;28mprint\u001b[39m(r_HD_net\u001b[38;5;241m.\u001b[39mshape)\n\u001b[0;32m----> 3\u001b[0m r_HD_net \u001b[38;5;241m=\u001b[39m \u001b[43mr_HD_net\u001b[49m\u001b[38;5;241;43m.\u001b[39;49m\u001b[43mnumpy\u001b[49m()\n",
      "\u001b[0;31mAttributeError\u001b[0m: 'numpy.ndarray' object has no attribute 'numpy'"
     ]
    }
   ],
   "source": [
    "print(kappa_net.shape)\n",
    "print(r_HD_net.shape)\n",
    "r_HD_net = r_HD_net.numpy()"
   ]
  },
  {
   "cell_type": "code",
   "execution_count": 309,
   "metadata": {},
   "outputs": [],
   "source": [
    "r0_AUC_traj = np.zeros(kappa_net.shape)\n",
    "\n",
    "for i in range(trajectories.shape[0]):\n",
    "    for j in range(trajectories.shape[1]):\n",
    "        r0_AUC_traj[i,j] = sklearn.metrics.auc(np.linspace(-np.pi,np.pi-(2*np.pi)/100,100),r_HD_net[i,j,:])/np.pi\n"
   ]
  },
  {
   "cell_type": "code",
   "execution_count": 310,
   "metadata": {},
   "outputs": [],
   "source": [
    "mu_fps_thresh, kappa_fps_thresh = get_mu_kappa_singlet(100, thresh_fstar[:,:100])\n",
    "\n",
    "r0HD_thresh = np.zeros(thresh_fstar.shape[0])\n",
    "\n",
    "for i in range(thresh_fstar.shape[0]):\n",
    "    fp = thresh_fstar[i,:100]\n",
    "    r0HD_thresh[i] = sklearn.metrics.auc(np.linspace(-np.pi,np.pi-(2*np.pi)/100,100),fp)/np.pi\n",
    "\n",
    "mu_fps_unthresh, kappa_fps_unthresh = get_mu_kappa_singlet(100, unthresh_fstar[:,:100])\n",
    "r0HD_unthresh = np.zeros(unthresh_fstar.shape[0])\n",
    "\n",
    "for i in range(unthresh_fstar.shape[0]):\n",
    "    fp = unthresh_fstar[i,:100]\n",
    "    r0HD_unthresh[i] = sklearn.metrics.auc(np.linspace(-np.pi,np.pi-(2*np.pi)/100,100),fp)/np.pi\n"
   ]
  },
  {
   "cell_type": "code",
   "execution_count": 312,
   "metadata": {},
   "outputs": [],
   "source": [
    "fig = plt.figure()\n",
    "x = np.arange(22)-2\n",
    "y = np.arange(22)-2\n",
    "\n",
    "plt.scatter(kappa_fps_unthresh, np.abs(r0HD_unthresh), label='Stable fixed points')\n",
    "#plt.scatter(kappa_fps_thresh, np.abs(r0HD_thresh), label='Pseudo unstable fixed points')\n",
    "plt.plot(x,y, color='black', label = 'kappa = r0HD parity line')\n",
    "plt.plot(kappa_net[0,:], np.abs(r0_AUC_traj[0,:]), color='red', label = 'Example trajectory over 20 seconds')\n",
    "plt.legend()\n",
    "plt.xlabel('Kappa value')\n",
    "plt.ylabel('Zeroth fourier mode coefficient r0HD')\n",
    "\n",
    "plt.show()"
   ]
  },
  {
   "cell_type": "code",
   "execution_count": 238,
   "metadata": {},
   "outputs": [],
   "source": [
    "mu_fps_thresh, kappa_fps_thresh = get_mu_kappa_singlet(100, fstar[:,:100])\n",
    "\n",
    "r0HD_thresh = np.zeros(fstar.shape[0])\n",
    "\n",
    "for i in range(thresh_fstar.shape[0]):\n",
    "    fp = thresh_fstar[i,:100]\n",
    "    r0HD_thresh[i] = sklearn.metrics.auc(np.linspace(-np.pi,np.pi-(2*np.pi)/100,100),fp)/np.pi\n",
    "\n"
   ]
  },
  {
   "cell_type": "code",
   "execution_count": 239,
   "metadata": {},
   "outputs": [],
   "source": [
    "fig = plt.figure()\n",
    "x = np.arange(22)-2\n",
    "y = np.arange(22)-2\n",
    "\n",
    "plt.scatter(kappa_fps_thresh, np.abs(r0HD_thresh), label='Fixed points')\n",
    "plt.plot(x,y, color='black', label = 'kappa = r0HD parity line')\n",
    "plt.plot(kappa_net[0,:], np.abs(r0_AUC_traj[0,:]), color='red', label = 'Example trajectory over 20 seconds')\n",
    "plt.legend()\n",
    "plt.xlabel('Kappa value')\n",
    "plt.ylabel('Zeroth fourier mode coefficient r0HD')\n",
    "\n",
    "plt.show()"
   ]
  },
  {
   "cell_type": "code",
   "execution_count": 31,
   "metadata": {},
   "outputs": [
    {
     "name": "stdout",
     "output_type": "stream",
     "text": [
      "(39, 300)\n"
     ]
    }
   ],
   "source": [
    "print(thresh_inits.shape)"
   ]
  },
  {
   "cell_type": "code",
   "execution_count": null,
   "metadata": {},
   "outputs": [],
   "source": []
  },
  {
   "cell_type": "code",
   "execution_count": 210,
   "metadata": {},
   "outputs": [],
   "source": [
    "fig, axs = plt.subplots(5,1)\n",
    "\n",
    "for fp in range(thresh_fstar.shape[0]):\n",
    "    axs[0].plot(thresh_fstar[fp,:])\n",
    "    axs[1].plot(thresh_inits[fp,:])\n",
    "\n",
    "for fp in range(unthresh_fstar.shape[0]):\n",
    "    axs[2].plot(unthresh_fstar[fp,:])\n",
    "    axs[3].plot(unthresh_inits[fp,:])\n",
    "\n",
    "axs[4].hist(q_b)\n",
    "\n",
    "axs[0].set_title('Fixed points where q > 0.00002')\n",
    "axs[1].set_title('Initial states for fps where q > 0.00002')\n",
    "axs[2].set_title('Fixed points where q <= 0.00002')\n",
    "axs[3].set_title('Initial states for fps where q <= 0.00002')\n",
    "axs[4].set_title('Histogram of qs for each fixed points')\n",
    "\n",
    "plt.show()"
   ]
  },
  {
   "cell_type": "code",
   "execution_count": null,
   "metadata": {},
   "outputs": [],
   "source": []
  },
  {
   "cell_type": "code",
   "execution_count": 188,
   "metadata": {},
   "outputs": [
    {
     "name": "stdout",
     "output_type": "stream",
     "text": [
      "[0.50403159 0.37213091 0.10449444]\n"
     ]
    }
   ],
   "source": [
    "from sklearn.decomposition import PCA\n",
    "\n",
    "pca = PCA(n_components= 3)\n",
    "\n",
    "traj = np.reshape(r_full,\n",
    "                (r_full.shape[0]*r_full.shape[1], r_full.shape[2]))\n",
    "\n",
    "pca.fit(traj)\n",
    "print(pca.explained_variance_ratio_)\n",
    "\n",
    "PCA_traj = pca.transform(traj)\n",
    "thresh_fps_PCA = pca.transform(thresh_fps)\n",
    "thresh_inits_PCA = pca.transform(thresh_inits)\n",
    "unthresh_fps_PCA = pca.transform(unthresh_fstar)\n",
    "unthresh_inits_PCA = pca.transform(unthresh_inits)"
   ]
  },
  {
   "cell_type": "code",
   "execution_count": 56,
   "metadata": {},
   "outputs": [
    {
     "data": {
      "text/plain": [
       "(39, 3)"
      ]
     },
     "execution_count": 56,
     "metadata": {},
     "output_type": "execute_result"
    }
   ],
   "source": [
    "thresh_fps_PCA.shape"
   ]
  },
  {
   "cell_type": "code",
   "execution_count": 184,
   "metadata": {},
   "outputs": [],
   "source": [
    "fig = plt.figure()\n",
    "\n",
    "#plt.scatter(thresh_fps_PCA[:,0], thresh_fps_PCA[:,1])\n",
    "plt.scatter(thresh_inits_PCA[:,0], thresh_inits_PCA[:,1], alpha=1)\n",
    "#plt.scatter(unthresh_fps_PCA[:,0], unthresh_fps_PCA[:,1])\n",
    "plt.scatter(unthresh_inits_PCA[:,0], unthresh_inits_PCA[:,1], alpha=0.3)\n",
    "\n",
    "plt.show()"
   ]
  },
  {
   "cell_type": "code",
   "execution_count": 189,
   "metadata": {},
   "outputs": [],
   "source": [
    "fig = plt.figure()\n",
    "\n",
    "plt.scatter(thresh_fps_PCA[:,1], thresh_fps_PCA[:,2])\n",
    "#plt.scatter(thresh_inits_PCA[:,0], thresh_inits_PCA[:,1], alpha=0.3)\n",
    "plt.scatter(unthresh_fps_PCA[:,1], unthresh_fps_PCA[:,2])\n",
    "#plt.scatter(unthresh_inits_PCA[:,0], unthresh_inits_PCA[:,1], alpha=0.3)\n",
    "\n",
    "plt.show()"
   ]
  },
  {
   "cell_type": "code",
   "execution_count": 42,
   "metadata": {},
   "outputs": [
    {
     "data": {
      "text/plain": [
       "(39, 300)"
      ]
     },
     "execution_count": 42,
     "metadata": {},
     "output_type": "execute_result"
    }
   ],
   "source": [
    "thresh_fps.shape"
   ]
  },
  {
   "cell_type": "code",
   "execution_count": 77,
   "metadata": {},
   "outputs": [
    {
     "name": "stdout",
     "output_type": "stream",
     "text": [
      "torch.Size([10, 20000, 300])\n"
     ]
    }
   ],
   "source": [
    "print(r_full.shape)"
   ]
  },
  {
   "cell_type": "code",
   "execution_count": null,
   "metadata": {},
   "outputs": [],
   "source": [
    "dx_bxd = torch.squeeze(x_1xbxd - F_x_1xbxd)\n",
    "q_b = 0.5 * torch.sum(torch.square(dx_bxd), axis=1)"
   ]
  },
  {
   "cell_type": "code",
   "execution_count": 190,
   "metadata": {},
   "outputs": [
    {
     "data": {
      "text/plain": [
       "<mpl_toolkits.mplot3d.art3d.Path3DCollection at 0x34343f520>"
      ]
     },
     "execution_count": 190,
     "metadata": {},
     "output_type": "execute_result"
    }
   ],
   "source": [
    "fig = plt.figure()\n",
    "\n",
    "ax = fig.add_subplot(111, projection='3d')\n",
    "ax.set_xlabel('PC 1')\n",
    "ax.set_zlabel('PC 3')\n",
    "ax.set_ylabel('PC 2')\n",
    "\n",
    "ax.scatter(thresh_fps_PCA[:, 0], thresh_fps_PCA[:, 1], thresh_fps_PCA[:, 2])\n",
    "ax.scatter(unthresh_fps_PCA[:, 0], unthresh_fps_PCA[:, 1], unthresh_fps_PCA[:, 2])"
   ]
  },
  {
   "cell_type": "code",
   "execution_count": 155,
   "metadata": {},
   "outputs": [
    {
     "data": {
      "text/plain": [
       "<mpl_toolkits.mplot3d.art3d.Path3DCollection at 0x329713700>"
      ]
     },
     "execution_count": 155,
     "metadata": {},
     "output_type": "execute_result"
    }
   ],
   "source": [
    "fig = plt.figure()\n",
    "\n",
    "ax = fig.add_subplot(111, projection='3d')\n",
    "ax.set_xlabel('PC 1')\n",
    "ax.set_zlabel('PC 3')\n",
    "ax.set_ylabel('PC 2')\n",
    "\n",
    "ax.scatter(thresh_inits_PCA[:, 0], thresh_inits_PCA[:, 1], thresh_inits_PCA[:, 2])\n",
    "ax.scatter(unthresh_inits_PCA[:, 0], unthresh_inits_PCA[:, 1], unthresh_inits_PCA[:, 2])"
   ]
  },
  {
   "cell_type": "code",
   "execution_count": 68,
   "metadata": {},
   "outputs": [],
   "source": [
    "fig = plt.figure()\n",
    "\n",
    "plt.plot(rnn.W_AVplus_HD @ r_HD_0)\n",
    "\n",
    "plt.show()"
   ]
  },
  {
   "cell_type": "code",
   "execution_count": null,
   "metadata": {},
   "outputs": [],
   "source": [
    "initial_r_AVplus = rnn.w_AVplus_HD * torch.einsum('ij,bj->bi', rnn.W_AVplus_HD, initial_r_HD)\n",
    "initial_r_AVminus = rnn.w_AVplus_HD * torch.einsum('ij,bj->bi', rnn.W_AVminus_HD, initial_r_HD)\n",
    "\n"
   ]
  },
  {
   "cell_type": "code",
   "execution_count": 74,
   "metadata": {},
   "outputs": [],
   "source": [
    "r_AVs = r_full[:,:,100:200]\n"
   ]
  },
  {
   "cell_type": "code",
   "execution_count": 75,
   "metadata": {},
   "outputs": [],
   "source": [
    "fig, axs = plt.subplots(3,1)\n",
    "\n",
    "for b in range(r_AVs.shape[0]):\n",
    "    batch = r_AVs[b,:,:]\n",
    "\n",
    "    axs[0].plot(batch[0,:])\n",
    "    axs[1].plot(batch[500,:])\n",
    "    axs[2].plot(batch[-1,:])\n",
    "\n",
    "plt.show()"
   ]
  },
  {
   "cell_type": "code",
   "execution_count": null,
   "metadata": {},
   "outputs": [],
   "source": []
  },
  {
   "cell_type": "markdown",
   "metadata": {},
   "source": [
    "## Heatmap of q gradients"
   ]
  },
  {
   "cell_type": "code",
   "execution_count": 5,
   "metadata": {},
   "outputs": [],
   "source": [
    "data = np.load('/Users/dysprague/fixed-point-finder/data/fly_HD_varied_0_AV_fps.npz')"
   ]
  },
  {
   "cell_type": "code",
   "execution_count": 15,
   "metadata": {},
   "outputs": [],
   "source": [
    "T = 20\n",
    "dt = 0.001 \n",
    "kappa_phi = 1 \n",
    "kappa_y_v = 1\n",
    "kappa_z = 15 \n",
    "N=100\n",
    "\n",
    "trajectories, true_HD, HD_obs, AV_obs = generate_data(T=T, dt=dt, N=N, kappa_phi=kappa_phi, kappa_v=kappa_y_v, kappa_z=15, batch_size=10)\n",
    "\n",
    "mu_gen, kappa_gen = get_mu_kappa(N, trajectories)"
   ]
  },
  {
   "cell_type": "code",
   "execution_count": 18,
   "metadata": {},
   "outputs": [],
   "source": [
    "rnn = drosophRNN(dt=dt, kappa_phi =kappa_phi, kappa_y=kappa_y_v)\n",
    "\n",
    "inputs = torch.from_numpy(np.stack((HD_obs, AV_obs), axis=2))\n",
    "initial_r_HD = torch.from_numpy(trajectories[:,0,:])\n",
    "\n",
    "initial_r_AVplus = rnn.w_AVplus_HD * torch.einsum('ij,bj->bi', rnn.W_AVplus_HD, initial_r_HD)\n",
    "initial_r_AVminus = rnn.w_AVplus_HD * torch.einsum('ij,bj->bi', rnn.W_AVminus_HD, initial_r_HD)\n",
    "\n",
    "initial_r_Del7 = 2 * rnn.w0 * rnn.kappa_0/(np.pi*(1-2*rnn.m0)) + rnn.w1 * rnn.kappa_0/(2*(1-rnn.m1))*torch.cos(rnn.phi_0_r_Del7-rnn.phi_0)\n",
    "initial_r_Del7 = initial_r_Del7.unsqueeze(0).repeat(initial_r_HD.shape[0],1)\n",
    "\n",
    "initial_state = torch.cat((initial_r_HD, initial_r_AVplus, initial_r_AVminus, initial_r_Del7), axis=1)\n",
    "\n",
    "initial_state = initial_state.unsqueeze(0)\n",
    "\n",
    "r_full, r_final = rnn(inputs, initial_state)\n",
    "\n",
    "#r_full should be bxtxd\n",
    "r_HD_net = r_full[:,:,:N]\n",
    "\n",
    "mu_net, kappa_net = get_mu_kappa(N, r_HD_net)"
   ]
  },
  {
   "cell_type": "code",
   "execution_count": 30,
   "metadata": {},
   "outputs": [
    {
     "data": {
      "text/plain": [
       "torch.Size([1, 10, 300])"
      ]
     },
     "execution_count": 30,
     "metadata": {},
     "output_type": "execute_result"
    }
   ],
   "source": [
    "initial_state.shape"
   ]
  },
  {
   "cell_type": "code",
   "execution_count": 31,
   "metadata": {},
   "outputs": [
    {
     "data": {
      "text/plain": [
       "torch.Size([10, 20000, 2])"
      ]
     },
     "execution_count": 31,
     "metadata": {},
     "output_type": "execute_result"
    }
   ],
   "source": [
    "inputs.shape"
   ]
  },
  {
   "cell_type": "code",
   "execution_count": 20,
   "metadata": {},
   "outputs": [],
   "source": [
    "weight = pca.components_"
   ]
  },
  {
   "cell_type": "code",
   "execution_count": 19,
   "metadata": {},
   "outputs": [
    {
     "name": "stdout",
     "output_type": "stream",
     "text": [
      "[0.50403159 0.37213091 0.10449444]\n"
     ]
    }
   ],
   "source": [
    "fstar = data['fstar']\n",
    "\n",
    "from sklearn.decomposition import PCA\n",
    "\n",
    "pca = PCA(n_components= 3)\n",
    "\n",
    "traj = np.reshape(r_full,\n",
    "                (r_full.shape[0]*r_full.shape[1], r_full.shape[2]))\n",
    "\n",
    "pca.fit(traj)\n",
    "print(pca.explained_variance_ratio_)\n",
    "\n",
    "PCA_traj = pca.transform(traj)\n",
    "fps_PCA = pca.transform(fstar)\n"
   ]
  },
  {
   "cell_type": "code",
   "execution_count": 25,
   "metadata": {},
   "outputs": [],
   "source": [
    "fig,axs = plt.subplots(3,1)\n",
    "\n",
    "for i in range(weight.shape[0]):\n",
    "\n",
    "    axs[0].plot(weight[i,:100], label=f'PC{i+1}')\n",
    "    axs[1].plot(weight[i,100:200], label=f'PC{i+1}')\n",
    "    axs[2].plot(weight[i,200:], label=f'PC{i+1}')\n",
    "\n",
    "axs[0].set_ylabel('HD neurons')\n",
    "axs[1].set_ylabel('AV neurons')\n",
    "axs[2].set_ylabel('Del7 neurons')\n",
    "\n",
    "plt.legend()\n",
    "plt.suptitle('PC weights per neuron')\n",
    "plt.show()"
   ]
  },
  {
   "cell_type": "code",
   "execution_count": 27,
   "metadata": {},
   "outputs": [],
   "source": [
    "x_min = min(fps_PCA[:,0])\n",
    "x_max = max(fps_PCA[:,0])\n",
    "x_range = x_max - x_min\n",
    "y_min = min(fps_PCA[:,1])\n",
    "y_max = max(fps_PCA[:,1])\n",
    "y_range = y_max - y_min\n",
    "z_min = min(fps_PCA[:,2])\n",
    "z_max = max(fps_PCA[:,2])\n",
    "z_range = z_max - z_min"
   ]
  },
  {
   "cell_type": "code",
   "execution_count": 28,
   "metadata": {},
   "outputs": [
    {
     "name": "stdout",
     "output_type": "stream",
     "text": [
      "1.2326944624797471\n",
      "1.365760394790312\n",
      "0.2539349089808327\n"
     ]
    }
   ],
   "source": [
    "print(x_max-x_min)\n",
    "print(y_max-y_min)\n",
    "print(z_max-z_min)"
   ]
  },
  {
   "cell_type": "code",
   "execution_count": 61,
   "metadata": {},
   "outputs": [
    {
     "name": "stdout",
     "output_type": "stream",
     "text": [
      "0.10525777396265723\n"
     ]
    }
   ],
   "source": [
    "print(x_min)"
   ]
  },
  {
   "cell_type": "code",
   "execution_count": 63,
   "metadata": {},
   "outputs": [],
   "source": [
    "x_samp = np.linspace(x_min-2, x_max+2, 75)\n",
    "y_samp = np.linspace(y_min-2, y_max+2, 75)\n",
    "z_samp = np.linspace(z_min-1, z_max+1, 10)\n",
    "\n",
    "HD_input = 0 \n",
    "heatmap_0 = np.zeros((75,75,10))\n",
    "heatmap_pi2 = np.zeros((75,75,10))\n",
    "heatmap_minpi2 = np.zeros((75,75,10))\n",
    "heatmap_pi = np.zeros((75,75,10))\n",
    "\n",
    "for i, x in enumerate(x_samp):\n",
    "    for j, y in enumerate(y_samp):\n",
    "        for k, z in enumerate(z_samp):\n",
    "            samp = np.array([x,y,z]).reshape(1,-1)\n",
    "\n",
    "            r0 = pca.inverse_transform(samp)\n",
    "            r0 = r0.reshape(1,1,300)\n",
    "            r0[:,:,100:200] = np.zeros(100)\n",
    "            r0_torch = torch.from_numpy(r0)\n",
    "            input_0 = np.array([0,0])\n",
    "            input_0 = torch.from_numpy(input_0.reshape(1,1,2))\n",
    "            input_pi2 = np.array([np.pi/2,0])\n",
    "            input_pi2 = torch.from_numpy(input_pi2.reshape(1,1,2))\n",
    "            input_minpi2 = np.array([-np.pi/2,0])\n",
    "            input_minpi2 = torch.from_numpy(input_minpi2.reshape(1,1,2))\n",
    "            input_pi = np.array([np.pi,0])\n",
    "            input_pi = torch.from_numpy(input_pi.reshape(1,1,2))\n",
    "\n",
    "            r_full_0, r_final = rnn(input_0, r0_torch)\n",
    "            dr_0 = torch.squeeze(r0_torch-r_full_0)\n",
    "            q_0 = 0.5*torch.sum(torch.square(dr_0))\n",
    "            heatmap_0[i,j,k] = q_0\n",
    "\n",
    "            r_full_pi2, r_final = rnn(input_pi2, r0_torch)\n",
    "            dr_pi2 = torch.squeeze(r0_torch-r_full_pi2)\n",
    "            q_pi2 = 0.5*torch.sum(torch.square(dr_pi2))\n",
    "            heatmap_pi2[i,j,k] = q_pi2\n",
    "\n",
    "            r_full_minpi2, r_final = rnn(input_minpi2, r0_torch)\n",
    "            dr_minpi2 = torch.squeeze(r0_torch-r_full_minpi2)\n",
    "            q_minpi2 = 0.5*torch.sum(torch.square(dr_minpi2))\n",
    "            heatmap_minpi2[i,j,k] = q_minpi2\n",
    "\n",
    "            r_full_pi, r_final = rnn(input_pi, r0_torch)\n",
    "            dr_pi = torch.squeeze(r0_torch-r_full_pi)\n",
    "            q_pi = 0.5*torch.sum(torch.square(dr_pi))\n",
    "            heatmap_pi[i,j,k] = q_pi"
   ]
  },
  {
   "cell_type": "code",
   "execution_count": 72,
   "metadata": {},
   "outputs": [
    {
     "data": {
      "text/plain": [
       "tensor(62.8949, dtype=torch.float64)"
      ]
     },
     "execution_count": 72,
     "metadata": {},
     "output_type": "execute_result"
    }
   ],
   "source": []
  },
  {
   "cell_type": "code",
   "execution_count": 58,
   "metadata": {},
   "outputs": [
    {
     "data": {
      "text/plain": [
       "[<matplotlib.lines.Line2D at 0x32a2d07f0>]"
      ]
     },
     "execution_count": 58,
     "metadata": {},
     "output_type": "execute_result"
    }
   ],
   "source": [
    "fig = plt.figure()\n",
    "\n",
    "plt.plot(r0_torch[0,0,:])"
   ]
  },
  {
   "cell_type": "code",
   "execution_count": 68,
   "metadata": {},
   "outputs": [],
   "source": [
    "fig, axs = plt.subplots(2,2)\n",
    "\n",
    "im0 = axs[0,0].imshow(heatmap_0[:,:,5])\n",
    "im1 = axs[1,0].imshow(heatmap_pi[:,:,5])\n",
    "im2 = axs[0,1].imshow(heatmap_pi2[:,:,5])\n",
    "im3 = axs[1,1].imshow(heatmap_minpi2[:,:,5])\n",
    "\n",
    "axs[0,0].set_title('HD input = 0')\n",
    "axs[1,0].set_title('HD input = pi')\n",
    "axs[0,1].set_title('HD input = pi/2')\n",
    "axs[1,1].set_title('HD input = -pi/2')\n",
    "\n",
    "fig.colorbar(im0)\n",
    "plt.show()"
   ]
  },
  {
   "cell_type": "code",
   "execution_count": 67,
   "metadata": {},
   "outputs": [],
   "source": [
    "fig = plt.figure() \n",
    "\n",
    "plt.scatter(fps_PCA[:,0], fps_PCA[:,1])\n",
    "plt.xlim([x_min-2,x_max+2])\n",
    "plt.ylim([y_min-2,y_max+2])\n",
    "\n",
    "plt.show()"
   ]
  },
  {
   "cell_type": "code",
   "execution_count": 39,
   "metadata": {},
   "outputs": [
    {
     "name": "stdout",
     "output_type": "stream",
     "text": [
      "(50, 50, 10)\n"
     ]
    }
   ],
   "source": [
    "print(heatmap_0.shape)"
   ]
  },
  {
   "cell_type": "code",
   "execution_count": 43,
   "metadata": {},
   "outputs": [
    {
     "data": {
      "text/plain": [
       "<matplotlib.image.AxesImage at 0x1480a4130>"
      ]
     },
     "execution_count": 43,
     "metadata": {},
     "output_type": "execute_result"
    }
   ],
   "source": []
  },
  {
   "cell_type": "markdown",
   "metadata": {},
   "source": [
    "## Dynamics plots"
   ]
  },
  {
   "cell_type": "code",
   "execution_count": 247,
   "metadata": {},
   "outputs": [],
   "source": [
    "x0_array = np.arange(5)+1\n",
    "dt=0.1\n",
    "t_array = np.arange(50)*dt\n",
    "\n",
    "x_array = np.zeros((len(x0_array), len(t_array)))\n",
    "\n",
    "fig = plt.figure() \n",
    "\n",
    "for i in x0_array:\n",
    "    x_array[i-1] = i*np.exp(t_array)\n",
    "\n",
    "    plt.plot(t_array, x_array[i-1], label = f'x={i} at t=0')\n",
    "\n",
    "plt.legend()\n",
    "plt.xlabel('time')\n",
    "plt.ylabel('x')\n",
    "\n",
    "plt.show()\n"
   ]
  },
  {
   "cell_type": "code",
   "execution_count": 285,
   "metadata": {},
   "outputs": [],
   "source": [
    "import matplotlib.pyplot as plt\n",
    "from scipy.integrate import odeint\n",
    "import numpy as np\n",
    " \n",
    "# first create create a function that evaluates the right-hand-side of the\n",
    "# state-space equations for a given state vector\n",
    " \n",
    "# x is the current state vector \n",
    "# t is current simulation time\n",
    " \n",
    "def dynamicsStateSpace(x,t):\n",
    "    dxdt=[-np.sin(x[0])*x[1],np.arctan(0.5*x[0]/x[1])]\n",
    "    return dxdt\n",
    "\n",
    "# next, define a grid of points at which we will show arrows\n",
    "x0=np.linspace(-5,5,40)\n",
    "x1=np.linspace(-5,5,40)\n",
    " \n",
    "# create a grid\n",
    "X0,X1=np.meshgrid(x0,x1)\n",
    "# projections of the trajectory tangent vector \n",
    "dX0=np.zeros(X0.shape)\n",
    "dX1=np.zeros(X1.shape)\n",
    " \n",
    "shape1,shape2=X1.shape\n",
    " \n",
    "for indexShape1 in range(shape1):\n",
    "    for indexShape2 in range(shape2):\n",
    "        dxdtAtX=dynamicsStateSpace([X0[indexShape1,indexShape2],X1[indexShape1,indexShape2]],0)\n",
    "        dX0[indexShape1,indexShape2]=dxdtAtX[0]\n",
    "        dX1[indexShape1,indexShape2]=dxdtAtX[1] \n",
    "\n",
    "\n",
    "plt.figure(figsize=(8, 8))\n",
    "# plot the phase portrait\n",
    "plt.quiver(X0,X1,dX0,dX1,color='b')\n",
    "# adjust the axis limits\n",
    "plt.xlim(-5,5)\n",
    "plt.ylim(-5,5)\n",
    "# insert the title\n",
    "plt.title('Phase Portrait', fontsize=14)\n",
    "# set the axis labels\n",
    "plt.xlabel('x',fontsize=14)\n",
    "plt.ylabel('y',fontsize=14)\n",
    "# adjust the font size of x and y axes\n",
    "plt.tick_params(axis='both', which='major', labelsize=14)\n",
    "# insert legend\n",
    "# plt.legend(fontsize=14)\n",
    "# save figure\n",
    "plt.savefig('phasePortrait.png',dpi=600)\n",
    "plt.show()\n",
    "\n"
   ]
  },
  {
   "cell_type": "code",
   "execution_count": 289,
   "metadata": {},
   "outputs": [
    {
     "name": "stderr",
     "output_type": "stream",
     "text": [
      "/var/folders/9t/68zflby9385dfmd93cm_b7ph0000gn/T/ipykernel_22730/2338409128.py:6: ODEintWarning: Excess work done on this call (perhaps wrong Dfun type). Run with full_output = 1 to get quantitative information.\n",
      "  solutionState1=odeint(dynamicsStateSpace,initialState1,simulationTime)\n",
      "/var/folders/9t/68zflby9385dfmd93cm_b7ph0000gn/T/ipykernel_22730/2007623801.py:12: RuntimeWarning: divide by zero encountered in scalar divide\n",
      "  dxdt=[-np.sin(x[0])*x[1],np.arctan(0.5*x[0]/x[1])]\n"
     ]
    }
   ],
   "source": [
    "# plot the dynamics on the same graph\n",
    "initialState1=np.array([-2,-4])\n",
    "initialState2=np.array([1.5,0])\n",
    "simulationTime=np.linspace(0,20,200)\n",
    "# generate the state-space trajectory\n",
    "solutionState1=odeint(dynamicsStateSpace,initialState1,simulationTime)\n",
    "solutionState2=odeint(dynamicsStateSpace,initialState2,simulationTime)\n",
    " \n",
    "#adjust the figure size\n",
    "plt.figure(figsize=(8, 8))\n",
    "# plot the phase portrait\n",
    "plt.quiver(X0,X1,dX0,dX1,color='b')\n",
    "# adjust the axis limits\n",
    "plt.xlim(-5,5)\n",
    "plt.ylim(-5,5)\n",
    "# add the state trajectory plot\n",
    "plt.plot(solutionState1[:,0], solutionState1[:,1], color='r',linewidth=3)\n",
    "plt.plot(solutionState2[:,0], solutionState2[:,1], color='g',linewidth=3)\n",
    "# insert the title\n",
    "plt.title('Phase Portrait', fontsize=14)\n",
    "# set the axis labels\n",
    "plt.xlabel('x',fontsize=14)\n",
    "plt.ylabel('y',fontsize=14)\n",
    "# adjust the font size of x and y axes\n",
    "plt.tick_params(axis='both', which='major', labelsize=14)\n",
    "# insert legend\n",
    "# plt.legend(fontsize=14)\n",
    "# save figure\n",
    "plt.savefig('phasePortraitStateTrajectory.png',dpi=600)\n",
    "plt.show() "
   ]
  },
  {
   "cell_type": "code",
   "execution_count": 292,
   "metadata": {},
   "outputs": [],
   "source": [
    "phi_0_r = np.linspace(-np.pi,np.pi-(2*np.pi)/5,5)\n",
    "phi_test = np.linspace(-np.pi,np.pi-(2*np.pi)/60,60)\n",
    "\n",
    "fig = plt.figure()\n",
    "\n",
    "for i in range(len(phi_0_r)):\n",
    "\n",
    "    plt.plot(phi_test, np.cos(phi_test-phi_0_r[i]))\n",
    "\n",
    "plt.xlabel('Head direction angle in radians')\n",
    "plt.ylabel('Neuron activity')\n",
    "plt.title('Head direction tunings for neurons in fly network')\n",
    "\n",
    "plt.show()\n",
    "    "
   ]
  },
  {
   "cell_type": "code",
   "execution_count": 313,
   "metadata": {},
   "outputs": [],
   "source": [
    "import scipy.stats"
   ]
  },
  {
   "cell_type": "code",
   "execution_count": null,
   "metadata": {},
   "outputs": [],
   "source": [
    "S_options = np.linspace(60,100,50)\n",
    "\n",
    "m1 = scipy.stats.norm.pdf(S_options, 70, 5)\n",
    "m2 = scipy.stats.norm.pdf(S_options, 90, 5)\n",
    "\n",
    "fig = plt.figure()\n",
    "\n",
    "plt.plot(S_options, m1, label='mu_1')\n",
    "plt.plot(S_options, m2, label='mu_2')\n",
    "\n",
    "plt.legend()\n",
    "\n"
   ]
  }
 ],
 "metadata": {
  "kernelspec": {
   "display_name": "fp-finder",
   "language": "python",
   "name": "python3"
  },
  "language_info": {
   "codemirror_mode": {
    "name": "ipython",
    "version": 3
   },
   "file_extension": ".py",
   "mimetype": "text/x-python",
   "name": "python",
   "nbconvert_exporter": "python",
   "pygments_lexer": "ipython3",
   "version": "3.10.16"
  }
 },
 "nbformat": 4,
 "nbformat_minor": 2
}
